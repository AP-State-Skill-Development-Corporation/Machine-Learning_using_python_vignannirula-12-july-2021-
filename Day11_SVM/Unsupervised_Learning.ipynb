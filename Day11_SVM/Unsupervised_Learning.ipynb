{
 "cells": [
  {
   "cell_type": "code",
   "execution_count": null,
   "id": "320b33ba",
   "metadata": {},
   "outputs": [],
   "source": [
    "train the machine on unlabelled data\n",
    "Types\n",
    "1.Clustering \n",
    "- Kmeans Clustering\n",
    "     - k--no of clusters\n",
    "     - choose the value of k\n",
    "     - find out the centroids,distance and mean\n",
    "     - repeat the process untill you meet the convergence \n",
    "2.Association\n",
    "\n",
    "\n"
   ]
  }
 ],
 "metadata": {
  "kernelspec": {
   "display_name": "Python 3",
   "language": "python",
   "name": "python3"
  },
  "language_info": {
   "codemirror_mode": {
    "name": "ipython",
    "version": 3
   },
   "file_extension": ".py",
   "mimetype": "text/x-python",
   "name": "python",
   "nbconvert_exporter": "python",
   "pygments_lexer": "ipython3",
   "version": "3.8.8"
  }
 },
 "nbformat": 4,
 "nbformat_minor": 5
}
