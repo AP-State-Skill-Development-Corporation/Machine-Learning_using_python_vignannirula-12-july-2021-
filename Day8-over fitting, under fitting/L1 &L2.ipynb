{
 "cells": [
  {
   "cell_type": "markdown",
   "metadata": {},
   "source": [
    "## Day agenda\n",
    "- what us over fitting\n",
    "- what is under fitting\n",
    "- How to handle that over fitting and under fitting problems in ML\n",
    "- Bias,Variance\n",
    "- Calculations behind the L1 & L2 Regularisation's"
   ]
  },
  {
   "cell_type": "markdown",
   "metadata": {},
   "source": [
    "##  Model fitting\n",
    "- Over fitting\n",
    "    - model performance is low in training - low bias\n",
    "    - model performance is low in testing - low variance\n",
    "- under fitting\n",
    "    - model performance is high in training - high bias\n",
    "    - model performance is low in testing - low variance\n",
    "- balanced fitting-find the generalised model\n",
    "    - model performance is high in training-high bias\n",
    "    - model performance is high in testing- high variance\n"
   ]
  },
  {
   "cell_type": "markdown",
   "metadata": {},
   "source": [
    "## observe the model performance\n",
    "## improve model performance by L1,&L2"
   ]
  },
  {
   "cell_type": "markdown",
   "metadata": {},
   "source": [
    "## 1.Load the dataset\n"
   ]
  },
  {
   "cell_type": "code",
   "execution_count": 1,
   "metadata": {},
   "outputs": [],
   "source": [
    "import pandas as pd\n",
    "import numpy as np\n",
    "import matplotlib.pyplot as plt\n",
    "import seaborn as sns"
   ]
  },
  {
   "cell_type": "code",
   "execution_count": 2,
   "metadata": {},
   "outputs": [
    {
     "data": {
      "text/html": [
       "<div>\n",
       "<style scoped>\n",
       "    .dataframe tbody tr th:only-of-type {\n",
       "        vertical-align: middle;\n",
       "    }\n",
       "\n",
       "    .dataframe tbody tr th {\n",
       "        vertical-align: top;\n",
       "    }\n",
       "\n",
       "    .dataframe thead th {\n",
       "        text-align: right;\n",
       "    }\n",
       "</style>\n",
       "<table border=\"1\" class=\"dataframe\">\n",
       "  <thead>\n",
       "    <tr style=\"text-align: right;\">\n",
       "      <th></th>\n",
       "      <th>Suburb</th>\n",
       "      <th>Address</th>\n",
       "      <th>Rooms</th>\n",
       "      <th>Type</th>\n",
       "      <th>Price</th>\n",
       "      <th>Method</th>\n",
       "      <th>SellerG</th>\n",
       "      <th>Date</th>\n",
       "      <th>Distance</th>\n",
       "      <th>Postcode</th>\n",
       "      <th>...</th>\n",
       "      <th>Bathroom</th>\n",
       "      <th>Car</th>\n",
       "      <th>Landsize</th>\n",
       "      <th>BuildingArea</th>\n",
       "      <th>YearBuilt</th>\n",
       "      <th>CouncilArea</th>\n",
       "      <th>Lattitude</th>\n",
       "      <th>Longtitude</th>\n",
       "      <th>Regionname</th>\n",
       "      <th>Propertycount</th>\n",
       "    </tr>\n",
       "  </thead>\n",
       "  <tbody>\n",
       "    <tr>\n",
       "      <th>0</th>\n",
       "      <td>Abbotsford</td>\n",
       "      <td>68 Studley St</td>\n",
       "      <td>2</td>\n",
       "      <td>h</td>\n",
       "      <td>NaN</td>\n",
       "      <td>SS</td>\n",
       "      <td>Jellis</td>\n",
       "      <td>3/09/2016</td>\n",
       "      <td>2.5</td>\n",
       "      <td>3067.0</td>\n",
       "      <td>...</td>\n",
       "      <td>1.0</td>\n",
       "      <td>1.0</td>\n",
       "      <td>126.0</td>\n",
       "      <td>NaN</td>\n",
       "      <td>NaN</td>\n",
       "      <td>Yarra City Council</td>\n",
       "      <td>-37.8014</td>\n",
       "      <td>144.9958</td>\n",
       "      <td>Northern Metropolitan</td>\n",
       "      <td>4019.0</td>\n",
       "    </tr>\n",
       "    <tr>\n",
       "      <th>1</th>\n",
       "      <td>Abbotsford</td>\n",
       "      <td>85 Turner St</td>\n",
       "      <td>2</td>\n",
       "      <td>h</td>\n",
       "      <td>1480000.0</td>\n",
       "      <td>S</td>\n",
       "      <td>Biggin</td>\n",
       "      <td>3/12/2016</td>\n",
       "      <td>2.5</td>\n",
       "      <td>3067.0</td>\n",
       "      <td>...</td>\n",
       "      <td>1.0</td>\n",
       "      <td>1.0</td>\n",
       "      <td>202.0</td>\n",
       "      <td>NaN</td>\n",
       "      <td>NaN</td>\n",
       "      <td>Yarra City Council</td>\n",
       "      <td>-37.7996</td>\n",
       "      <td>144.9984</td>\n",
       "      <td>Northern Metropolitan</td>\n",
       "      <td>4019.0</td>\n",
       "    </tr>\n",
       "    <tr>\n",
       "      <th>2</th>\n",
       "      <td>Abbotsford</td>\n",
       "      <td>25 Bloomburg St</td>\n",
       "      <td>2</td>\n",
       "      <td>h</td>\n",
       "      <td>1035000.0</td>\n",
       "      <td>S</td>\n",
       "      <td>Biggin</td>\n",
       "      <td>4/02/2016</td>\n",
       "      <td>2.5</td>\n",
       "      <td>3067.0</td>\n",
       "      <td>...</td>\n",
       "      <td>1.0</td>\n",
       "      <td>0.0</td>\n",
       "      <td>156.0</td>\n",
       "      <td>79.0</td>\n",
       "      <td>1900.0</td>\n",
       "      <td>Yarra City Council</td>\n",
       "      <td>-37.8079</td>\n",
       "      <td>144.9934</td>\n",
       "      <td>Northern Metropolitan</td>\n",
       "      <td>4019.0</td>\n",
       "    </tr>\n",
       "    <tr>\n",
       "      <th>3</th>\n",
       "      <td>Abbotsford</td>\n",
       "      <td>18/659 Victoria St</td>\n",
       "      <td>3</td>\n",
       "      <td>u</td>\n",
       "      <td>NaN</td>\n",
       "      <td>VB</td>\n",
       "      <td>Rounds</td>\n",
       "      <td>4/02/2016</td>\n",
       "      <td>2.5</td>\n",
       "      <td>3067.0</td>\n",
       "      <td>...</td>\n",
       "      <td>2.0</td>\n",
       "      <td>1.0</td>\n",
       "      <td>0.0</td>\n",
       "      <td>NaN</td>\n",
       "      <td>NaN</td>\n",
       "      <td>Yarra City Council</td>\n",
       "      <td>-37.8114</td>\n",
       "      <td>145.0116</td>\n",
       "      <td>Northern Metropolitan</td>\n",
       "      <td>4019.0</td>\n",
       "    </tr>\n",
       "    <tr>\n",
       "      <th>4</th>\n",
       "      <td>Abbotsford</td>\n",
       "      <td>5 Charles St</td>\n",
       "      <td>3</td>\n",
       "      <td>h</td>\n",
       "      <td>1465000.0</td>\n",
       "      <td>SP</td>\n",
       "      <td>Biggin</td>\n",
       "      <td>4/03/2017</td>\n",
       "      <td>2.5</td>\n",
       "      <td>3067.0</td>\n",
       "      <td>...</td>\n",
       "      <td>2.0</td>\n",
       "      <td>0.0</td>\n",
       "      <td>134.0</td>\n",
       "      <td>150.0</td>\n",
       "      <td>1900.0</td>\n",
       "      <td>Yarra City Council</td>\n",
       "      <td>-37.8093</td>\n",
       "      <td>144.9944</td>\n",
       "      <td>Northern Metropolitan</td>\n",
       "      <td>4019.0</td>\n",
       "    </tr>\n",
       "  </tbody>\n",
       "</table>\n",
       "<p>5 rows × 21 columns</p>\n",
       "</div>"
      ],
      "text/plain": [
       "       Suburb             Address  Rooms Type      Price Method SellerG  \\\n",
       "0  Abbotsford       68 Studley St      2    h        NaN     SS  Jellis   \n",
       "1  Abbotsford        85 Turner St      2    h  1480000.0      S  Biggin   \n",
       "2  Abbotsford     25 Bloomburg St      2    h  1035000.0      S  Biggin   \n",
       "3  Abbotsford  18/659 Victoria St      3    u        NaN     VB  Rounds   \n",
       "4  Abbotsford        5 Charles St      3    h  1465000.0     SP  Biggin   \n",
       "\n",
       "        Date  Distance  Postcode  ...  Bathroom  Car  Landsize  BuildingArea  \\\n",
       "0  3/09/2016       2.5    3067.0  ...       1.0  1.0     126.0           NaN   \n",
       "1  3/12/2016       2.5    3067.0  ...       1.0  1.0     202.0           NaN   \n",
       "2  4/02/2016       2.5    3067.0  ...       1.0  0.0     156.0          79.0   \n",
       "3  4/02/2016       2.5    3067.0  ...       2.0  1.0       0.0           NaN   \n",
       "4  4/03/2017       2.5    3067.0  ...       2.0  0.0     134.0         150.0   \n",
       "\n",
       "   YearBuilt         CouncilArea Lattitude  Longtitude             Regionname  \\\n",
       "0        NaN  Yarra City Council  -37.8014    144.9958  Northern Metropolitan   \n",
       "1        NaN  Yarra City Council  -37.7996    144.9984  Northern Metropolitan   \n",
       "2     1900.0  Yarra City Council  -37.8079    144.9934  Northern Metropolitan   \n",
       "3        NaN  Yarra City Council  -37.8114    145.0116  Northern Metropolitan   \n",
       "4     1900.0  Yarra City Council  -37.8093    144.9944  Northern Metropolitan   \n",
       "\n",
       "  Propertycount  \n",
       "0        4019.0  \n",
       "1        4019.0  \n",
       "2        4019.0  \n",
       "3        4019.0  \n",
       "4        4019.0  \n",
       "\n",
       "[5 rows x 21 columns]"
      ]
     },
     "execution_count": 2,
     "metadata": {},
     "output_type": "execute_result"
    }
   ],
   "source": [
    "df=pd.read_csv(\"https://raw.githubusercontent.com/madevi431/py/master/ML/16_regularization/Melbourne_housing_FULL.csv\")\n",
    "df.head()"
   ]
  },
  {
   "cell_type": "markdown",
   "metadata": {},
   "source": [
    "## 2. Data Preprocessing\n"
   ]
  },
  {
   "cell_type": "code",
   "execution_count": 3,
   "metadata": {},
   "outputs": [
    {
     "name": "stdout",
     "output_type": "stream",
     "text": [
      "<class 'pandas.core.frame.DataFrame'>\n",
      "RangeIndex: 34857 entries, 0 to 34856\n",
      "Data columns (total 21 columns):\n",
      " #   Column         Non-Null Count  Dtype  \n",
      "---  ------         --------------  -----  \n",
      " 0   Suburb         34857 non-null  object \n",
      " 1   Address        34857 non-null  object \n",
      " 2   Rooms          34857 non-null  int64  \n",
      " 3   Type           34857 non-null  object \n",
      " 4   Price          27247 non-null  float64\n",
      " 5   Method         34857 non-null  object \n",
      " 6   SellerG        34857 non-null  object \n",
      " 7   Date           34857 non-null  object \n",
      " 8   Distance       34856 non-null  float64\n",
      " 9   Postcode       34856 non-null  float64\n",
      " 10  Bedroom2       26640 non-null  float64\n",
      " 11  Bathroom       26631 non-null  float64\n",
      " 12  Car            26129 non-null  float64\n",
      " 13  Landsize       23047 non-null  float64\n",
      " 14  BuildingArea   13742 non-null  float64\n",
      " 15  YearBuilt      15551 non-null  float64\n",
      " 16  CouncilArea    34854 non-null  object \n",
      " 17  Lattitude      26881 non-null  float64\n",
      " 18  Longtitude     26881 non-null  float64\n",
      " 19  Regionname     34854 non-null  object \n",
      " 20  Propertycount  34854 non-null  float64\n",
      "dtypes: float64(12), int64(1), object(8)\n",
      "memory usage: 5.6+ MB\n"
     ]
    }
   ],
   "source": [
    "df.info()"
   ]
  },
  {
   "cell_type": "code",
   "execution_count": 4,
   "metadata": {},
   "outputs": [
    {
     "data": {
      "text/html": [
       "<div>\n",
       "<style scoped>\n",
       "    .dataframe tbody tr th:only-of-type {\n",
       "        vertical-align: middle;\n",
       "    }\n",
       "\n",
       "    .dataframe tbody tr th {\n",
       "        vertical-align: top;\n",
       "    }\n",
       "\n",
       "    .dataframe thead th {\n",
       "        text-align: right;\n",
       "    }\n",
       "</style>\n",
       "<table border=\"1\" class=\"dataframe\">\n",
       "  <thead>\n",
       "    <tr style=\"text-align: right;\">\n",
       "      <th></th>\n",
       "      <th>Rooms</th>\n",
       "      <th>Price</th>\n",
       "      <th>Distance</th>\n",
       "      <th>Postcode</th>\n",
       "      <th>Bedroom2</th>\n",
       "      <th>Bathroom</th>\n",
       "      <th>Car</th>\n",
       "      <th>Landsize</th>\n",
       "      <th>BuildingArea</th>\n",
       "      <th>YearBuilt</th>\n",
       "      <th>Lattitude</th>\n",
       "      <th>Longtitude</th>\n",
       "      <th>Propertycount</th>\n",
       "    </tr>\n",
       "  </thead>\n",
       "  <tbody>\n",
       "    <tr>\n",
       "      <th>count</th>\n",
       "      <td>34857.000000</td>\n",
       "      <td>2.724700e+04</td>\n",
       "      <td>34856.000000</td>\n",
       "      <td>34856.000000</td>\n",
       "      <td>26640.000000</td>\n",
       "      <td>26631.000000</td>\n",
       "      <td>26129.000000</td>\n",
       "      <td>23047.000000</td>\n",
       "      <td>13742.00000</td>\n",
       "      <td>15551.000000</td>\n",
       "      <td>26881.000000</td>\n",
       "      <td>26881.000000</td>\n",
       "      <td>34854.000000</td>\n",
       "    </tr>\n",
       "    <tr>\n",
       "      <th>mean</th>\n",
       "      <td>3.031012</td>\n",
       "      <td>1.050173e+06</td>\n",
       "      <td>11.184929</td>\n",
       "      <td>3116.062859</td>\n",
       "      <td>3.084647</td>\n",
       "      <td>1.624798</td>\n",
       "      <td>1.728845</td>\n",
       "      <td>593.598993</td>\n",
       "      <td>160.25640</td>\n",
       "      <td>1965.289885</td>\n",
       "      <td>-37.810634</td>\n",
       "      <td>145.001851</td>\n",
       "      <td>7572.888306</td>\n",
       "    </tr>\n",
       "    <tr>\n",
       "      <th>std</th>\n",
       "      <td>0.969933</td>\n",
       "      <td>6.414671e+05</td>\n",
       "      <td>6.788892</td>\n",
       "      <td>109.023903</td>\n",
       "      <td>0.980690</td>\n",
       "      <td>0.724212</td>\n",
       "      <td>1.010771</td>\n",
       "      <td>3398.841946</td>\n",
       "      <td>401.26706</td>\n",
       "      <td>37.328178</td>\n",
       "      <td>0.090279</td>\n",
       "      <td>0.120169</td>\n",
       "      <td>4428.090313</td>\n",
       "    </tr>\n",
       "    <tr>\n",
       "      <th>min</th>\n",
       "      <td>1.000000</td>\n",
       "      <td>8.500000e+04</td>\n",
       "      <td>0.000000</td>\n",
       "      <td>3000.000000</td>\n",
       "      <td>0.000000</td>\n",
       "      <td>0.000000</td>\n",
       "      <td>0.000000</td>\n",
       "      <td>0.000000</td>\n",
       "      <td>0.00000</td>\n",
       "      <td>1196.000000</td>\n",
       "      <td>-38.190430</td>\n",
       "      <td>144.423790</td>\n",
       "      <td>83.000000</td>\n",
       "    </tr>\n",
       "    <tr>\n",
       "      <th>25%</th>\n",
       "      <td>2.000000</td>\n",
       "      <td>6.350000e+05</td>\n",
       "      <td>6.400000</td>\n",
       "      <td>3051.000000</td>\n",
       "      <td>2.000000</td>\n",
       "      <td>1.000000</td>\n",
       "      <td>1.000000</td>\n",
       "      <td>224.000000</td>\n",
       "      <td>102.00000</td>\n",
       "      <td>1940.000000</td>\n",
       "      <td>-37.862950</td>\n",
       "      <td>144.933500</td>\n",
       "      <td>4385.000000</td>\n",
       "    </tr>\n",
       "    <tr>\n",
       "      <th>50%</th>\n",
       "      <td>3.000000</td>\n",
       "      <td>8.700000e+05</td>\n",
       "      <td>10.300000</td>\n",
       "      <td>3103.000000</td>\n",
       "      <td>3.000000</td>\n",
       "      <td>2.000000</td>\n",
       "      <td>2.000000</td>\n",
       "      <td>521.000000</td>\n",
       "      <td>136.00000</td>\n",
       "      <td>1970.000000</td>\n",
       "      <td>-37.807600</td>\n",
       "      <td>145.007800</td>\n",
       "      <td>6763.000000</td>\n",
       "    </tr>\n",
       "    <tr>\n",
       "      <th>75%</th>\n",
       "      <td>4.000000</td>\n",
       "      <td>1.295000e+06</td>\n",
       "      <td>14.000000</td>\n",
       "      <td>3156.000000</td>\n",
       "      <td>4.000000</td>\n",
       "      <td>2.000000</td>\n",
       "      <td>2.000000</td>\n",
       "      <td>670.000000</td>\n",
       "      <td>188.00000</td>\n",
       "      <td>2000.000000</td>\n",
       "      <td>-37.754100</td>\n",
       "      <td>145.071900</td>\n",
       "      <td>10412.000000</td>\n",
       "    </tr>\n",
       "    <tr>\n",
       "      <th>max</th>\n",
       "      <td>16.000000</td>\n",
       "      <td>1.120000e+07</td>\n",
       "      <td>48.100000</td>\n",
       "      <td>3978.000000</td>\n",
       "      <td>30.000000</td>\n",
       "      <td>12.000000</td>\n",
       "      <td>26.000000</td>\n",
       "      <td>433014.000000</td>\n",
       "      <td>44515.00000</td>\n",
       "      <td>2106.000000</td>\n",
       "      <td>-37.390200</td>\n",
       "      <td>145.526350</td>\n",
       "      <td>21650.000000</td>\n",
       "    </tr>\n",
       "  </tbody>\n",
       "</table>\n",
       "</div>"
      ],
      "text/plain": [
       "              Rooms         Price      Distance      Postcode      Bedroom2  \\\n",
       "count  34857.000000  2.724700e+04  34856.000000  34856.000000  26640.000000   \n",
       "mean       3.031012  1.050173e+06     11.184929   3116.062859      3.084647   \n",
       "std        0.969933  6.414671e+05      6.788892    109.023903      0.980690   \n",
       "min        1.000000  8.500000e+04      0.000000   3000.000000      0.000000   \n",
       "25%        2.000000  6.350000e+05      6.400000   3051.000000      2.000000   \n",
       "50%        3.000000  8.700000e+05     10.300000   3103.000000      3.000000   \n",
       "75%        4.000000  1.295000e+06     14.000000   3156.000000      4.000000   \n",
       "max       16.000000  1.120000e+07     48.100000   3978.000000     30.000000   \n",
       "\n",
       "           Bathroom           Car       Landsize  BuildingArea     YearBuilt  \\\n",
       "count  26631.000000  26129.000000   23047.000000   13742.00000  15551.000000   \n",
       "mean       1.624798      1.728845     593.598993     160.25640   1965.289885   \n",
       "std        0.724212      1.010771    3398.841946     401.26706     37.328178   \n",
       "min        0.000000      0.000000       0.000000       0.00000   1196.000000   \n",
       "25%        1.000000      1.000000     224.000000     102.00000   1940.000000   \n",
       "50%        2.000000      2.000000     521.000000     136.00000   1970.000000   \n",
       "75%        2.000000      2.000000     670.000000     188.00000   2000.000000   \n",
       "max       12.000000     26.000000  433014.000000   44515.00000   2106.000000   \n",
       "\n",
       "          Lattitude    Longtitude  Propertycount  \n",
       "count  26881.000000  26881.000000   34854.000000  \n",
       "mean     -37.810634    145.001851    7572.888306  \n",
       "std        0.090279      0.120169    4428.090313  \n",
       "min      -38.190430    144.423790      83.000000  \n",
       "25%      -37.862950    144.933500    4385.000000  \n",
       "50%      -37.807600    145.007800    6763.000000  \n",
       "75%      -37.754100    145.071900   10412.000000  \n",
       "max      -37.390200    145.526350   21650.000000  "
      ]
     },
     "execution_count": 4,
     "metadata": {},
     "output_type": "execute_result"
    }
   ],
   "source": [
    "df.describe()"
   ]
  },
  {
   "cell_type": "code",
   "execution_count": 5,
   "metadata": {},
   "outputs": [
    {
     "data": {
      "text/plain": [
       "Suburb               0\n",
       "Address              0\n",
       "Rooms                0\n",
       "Type                 0\n",
       "Price             7610\n",
       "Method               0\n",
       "SellerG              0\n",
       "Date                 0\n",
       "Distance             1\n",
       "Postcode             1\n",
       "Bedroom2          8217\n",
       "Bathroom          8226\n",
       "Car               8728\n",
       "Landsize         11810\n",
       "BuildingArea     21115\n",
       "YearBuilt        19306\n",
       "CouncilArea          3\n",
       "Lattitude         7976\n",
       "Longtitude        7976\n",
       "Regionname           3\n",
       "Propertycount        3\n",
       "dtype: int64"
      ]
     },
     "execution_count": 5,
     "metadata": {},
     "output_type": "execute_result"
    }
   ],
   "source": [
    "df.isnull().sum()"
   ]
  },
  {
   "cell_type": "code",
   "execution_count": 6,
   "metadata": {},
   "outputs": [
    {
     "data": {
      "text/plain": [
       "Index(['Suburb', 'Address', 'Rooms', 'Type', 'Price', 'Method', 'SellerG',\n",
       "       'Date', 'Distance', 'Postcode', 'Bedroom2', 'Bathroom', 'Car',\n",
       "       'Landsize', 'BuildingArea', 'YearBuilt', 'CouncilArea', 'Lattitude',\n",
       "       'Longtitude', 'Regionname', 'Propertycount'],\n",
       "      dtype='object')"
      ]
     },
     "execution_count": 6,
     "metadata": {},
     "output_type": "execute_result"
    }
   ],
   "source": [
    "df.columns"
   ]
  },
  {
   "cell_type": "code",
   "execution_count": 9,
   "metadata": {},
   "outputs": [],
   "source": [
    "## select the features which have importance to find our target i,e,price\n",
    "cols_=['Suburb','Rooms','Type','Method','SellerG','Distance',\n",
    "       'Bedroom2','Bathroom','Car','Landsize', 'BuildingArea',\n",
    "      'CouncilArea', 'Lattitude','Regionname', 'Propertycount','Price']"
   ]
  },
  {
   "cell_type": "code",
   "execution_count": 10,
   "metadata": {},
   "outputs": [
    {
     "data": {
      "text/html": [
       "<div>\n",
       "<style scoped>\n",
       "    .dataframe tbody tr th:only-of-type {\n",
       "        vertical-align: middle;\n",
       "    }\n",
       "\n",
       "    .dataframe tbody tr th {\n",
       "        vertical-align: top;\n",
       "    }\n",
       "\n",
       "    .dataframe thead th {\n",
       "        text-align: right;\n",
       "    }\n",
       "</style>\n",
       "<table border=\"1\" class=\"dataframe\">\n",
       "  <thead>\n",
       "    <tr style=\"text-align: right;\">\n",
       "      <th></th>\n",
       "      <th>Suburb</th>\n",
       "      <th>Rooms</th>\n",
       "      <th>Type</th>\n",
       "      <th>Method</th>\n",
       "      <th>SellerG</th>\n",
       "      <th>Distance</th>\n",
       "      <th>Bedroom2</th>\n",
       "      <th>Bathroom</th>\n",
       "      <th>Car</th>\n",
       "      <th>Landsize</th>\n",
       "      <th>BuildingArea</th>\n",
       "      <th>CouncilArea</th>\n",
       "      <th>Lattitude</th>\n",
       "      <th>Regionname</th>\n",
       "      <th>Propertycount</th>\n",
       "      <th>Price</th>\n",
       "    </tr>\n",
       "  </thead>\n",
       "  <tbody>\n",
       "    <tr>\n",
       "      <th>0</th>\n",
       "      <td>Abbotsford</td>\n",
       "      <td>2</td>\n",
       "      <td>h</td>\n",
       "      <td>SS</td>\n",
       "      <td>Jellis</td>\n",
       "      <td>2.5</td>\n",
       "      <td>2.0</td>\n",
       "      <td>1.0</td>\n",
       "      <td>1.0</td>\n",
       "      <td>126.0</td>\n",
       "      <td>NaN</td>\n",
       "      <td>Yarra City Council</td>\n",
       "      <td>-37.8014</td>\n",
       "      <td>Northern Metropolitan</td>\n",
       "      <td>4019.0</td>\n",
       "      <td>NaN</td>\n",
       "    </tr>\n",
       "    <tr>\n",
       "      <th>1</th>\n",
       "      <td>Abbotsford</td>\n",
       "      <td>2</td>\n",
       "      <td>h</td>\n",
       "      <td>S</td>\n",
       "      <td>Biggin</td>\n",
       "      <td>2.5</td>\n",
       "      <td>2.0</td>\n",
       "      <td>1.0</td>\n",
       "      <td>1.0</td>\n",
       "      <td>202.0</td>\n",
       "      <td>NaN</td>\n",
       "      <td>Yarra City Council</td>\n",
       "      <td>-37.7996</td>\n",
       "      <td>Northern Metropolitan</td>\n",
       "      <td>4019.0</td>\n",
       "      <td>1480000.0</td>\n",
       "    </tr>\n",
       "    <tr>\n",
       "      <th>2</th>\n",
       "      <td>Abbotsford</td>\n",
       "      <td>2</td>\n",
       "      <td>h</td>\n",
       "      <td>S</td>\n",
       "      <td>Biggin</td>\n",
       "      <td>2.5</td>\n",
       "      <td>2.0</td>\n",
       "      <td>1.0</td>\n",
       "      <td>0.0</td>\n",
       "      <td>156.0</td>\n",
       "      <td>79.0</td>\n",
       "      <td>Yarra City Council</td>\n",
       "      <td>-37.8079</td>\n",
       "      <td>Northern Metropolitan</td>\n",
       "      <td>4019.0</td>\n",
       "      <td>1035000.0</td>\n",
       "    </tr>\n",
       "    <tr>\n",
       "      <th>3</th>\n",
       "      <td>Abbotsford</td>\n",
       "      <td>3</td>\n",
       "      <td>u</td>\n",
       "      <td>VB</td>\n",
       "      <td>Rounds</td>\n",
       "      <td>2.5</td>\n",
       "      <td>3.0</td>\n",
       "      <td>2.0</td>\n",
       "      <td>1.0</td>\n",
       "      <td>0.0</td>\n",
       "      <td>NaN</td>\n",
       "      <td>Yarra City Council</td>\n",
       "      <td>-37.8114</td>\n",
       "      <td>Northern Metropolitan</td>\n",
       "      <td>4019.0</td>\n",
       "      <td>NaN</td>\n",
       "    </tr>\n",
       "    <tr>\n",
       "      <th>4</th>\n",
       "      <td>Abbotsford</td>\n",
       "      <td>3</td>\n",
       "      <td>h</td>\n",
       "      <td>SP</td>\n",
       "      <td>Biggin</td>\n",
       "      <td>2.5</td>\n",
       "      <td>3.0</td>\n",
       "      <td>2.0</td>\n",
       "      <td>0.0</td>\n",
       "      <td>134.0</td>\n",
       "      <td>150.0</td>\n",
       "      <td>Yarra City Council</td>\n",
       "      <td>-37.8093</td>\n",
       "      <td>Northern Metropolitan</td>\n",
       "      <td>4019.0</td>\n",
       "      <td>1465000.0</td>\n",
       "    </tr>\n",
       "  </tbody>\n",
       "</table>\n",
       "</div>"
      ],
      "text/plain": [
       "       Suburb  Rooms Type Method SellerG  Distance  Bedroom2  Bathroom  Car  \\\n",
       "0  Abbotsford      2    h     SS  Jellis       2.5       2.0       1.0  1.0   \n",
       "1  Abbotsford      2    h      S  Biggin       2.5       2.0       1.0  1.0   \n",
       "2  Abbotsford      2    h      S  Biggin       2.5       2.0       1.0  0.0   \n",
       "3  Abbotsford      3    u     VB  Rounds       2.5       3.0       2.0  1.0   \n",
       "4  Abbotsford      3    h     SP  Biggin       2.5       3.0       2.0  0.0   \n",
       "\n",
       "   Landsize  BuildingArea         CouncilArea  Lattitude  \\\n",
       "0     126.0           NaN  Yarra City Council   -37.8014   \n",
       "1     202.0           NaN  Yarra City Council   -37.7996   \n",
       "2     156.0          79.0  Yarra City Council   -37.8079   \n",
       "3       0.0           NaN  Yarra City Council   -37.8114   \n",
       "4     134.0         150.0  Yarra City Council   -37.8093   \n",
       "\n",
       "              Regionname  Propertycount      Price  \n",
       "0  Northern Metropolitan         4019.0        NaN  \n",
       "1  Northern Metropolitan         4019.0  1480000.0  \n",
       "2  Northern Metropolitan         4019.0  1035000.0  \n",
       "3  Northern Metropolitan         4019.0        NaN  \n",
       "4  Northern Metropolitan         4019.0  1465000.0  "
      ]
     },
     "execution_count": 10,
     "metadata": {},
     "output_type": "execute_result"
    }
   ],
   "source": [
    "df=df[cols_]\n",
    "df.head()"
   ]
  },
  {
   "cell_type": "code",
   "execution_count": 11,
   "metadata": {},
   "outputs": [
    {
     "data": {
      "text/plain": [
       "(34857, 16)"
      ]
     },
     "execution_count": 11,
     "metadata": {},
     "output_type": "execute_result"
    }
   ],
   "source": [
    "df.shape"
   ]
  },
  {
   "cell_type": "code",
   "execution_count": 12,
   "metadata": {},
   "outputs": [
    {
     "data": {
      "text/plain": [
       "Suburb               0\n",
       "Rooms                0\n",
       "Type                 0\n",
       "Method               0\n",
       "SellerG              0\n",
       "Distance             1\n",
       "Bedroom2          8217\n",
       "Bathroom          8226\n",
       "Car               8728\n",
       "Landsize         11810\n",
       "BuildingArea     21115\n",
       "CouncilArea          3\n",
       "Lattitude         7976\n",
       "Regionname           3\n",
       "Propertycount        3\n",
       "Price             7610\n",
       "dtype: int64"
      ]
     },
     "execution_count": 12,
     "metadata": {},
     "output_type": "execute_result"
    }
   ],
   "source": [
    "df.isna().sum()"
   ]
  },
  {
   "cell_type": "code",
   "execution_count": 17,
   "metadata": {},
   "outputs": [],
   "source": [
    "df=df.drop(\"Lattitude\",axis=1)\n"
   ]
  },
  {
   "cell_type": "code",
   "execution_count": 19,
   "metadata": {},
   "outputs": [
    {
     "data": {
      "text/plain": [
       "Suburb               0\n",
       "Rooms                0\n",
       "Type                 0\n",
       "Method               0\n",
       "SellerG              0\n",
       "Distance             1\n",
       "Bedroom2          8217\n",
       "Bathroom          8226\n",
       "Car               8728\n",
       "Landsize         11810\n",
       "BuildingArea     21115\n",
       "CouncilArea          3\n",
       "Regionname           3\n",
       "Propertycount        3\n",
       "Price             7610\n",
       "dtype: int64"
      ]
     },
     "execution_count": 19,
     "metadata": {},
     "output_type": "execute_result"
    }
   ],
   "source": [
    "df.isnull().sum()"
   ]
  },
  {
   "cell_type": "code",
   "execution_count": 21,
   "metadata": {},
   "outputs": [],
   "source": [
    "cols_zero=['Propertycount','Distance','Bedroom2','Bathroom','Car']\n",
    "df[cols_zero]=df[cols_zero].fillna(0)\n"
   ]
  },
  {
   "cell_type": "code",
   "execution_count": 22,
   "metadata": {},
   "outputs": [
    {
     "data": {
      "text/plain": [
       "Suburb               0\n",
       "Rooms                0\n",
       "Type                 0\n",
       "Method               0\n",
       "SellerG              0\n",
       "Distance             0\n",
       "Bedroom2             0\n",
       "Bathroom             0\n",
       "Car                  0\n",
       "Landsize         11810\n",
       "BuildingArea     21115\n",
       "CouncilArea          3\n",
       "Regionname           3\n",
       "Propertycount        0\n",
       "Price             7610\n",
       "dtype: int64"
      ]
     },
     "execution_count": 22,
     "metadata": {},
     "output_type": "execute_result"
    }
   ],
   "source": [
    "df.isnull().sum()"
   ]
  },
  {
   "cell_type": "code",
   "execution_count": 23,
   "metadata": {},
   "outputs": [],
   "source": [
    "df['Landsize']=df['Landsize'].fillna(df.Landsize.mean())\n",
    "df['BuildingArea']=df[\"BuildingArea\"].fillna(df.BuildingArea.mean())"
   ]
  },
  {
   "cell_type": "code",
   "execution_count": 24,
   "metadata": {},
   "outputs": [
    {
     "data": {
      "text/plain": [
       "Suburb              0\n",
       "Rooms               0\n",
       "Type                0\n",
       "Method              0\n",
       "SellerG             0\n",
       "Distance            0\n",
       "Bedroom2            0\n",
       "Bathroom            0\n",
       "Car                 0\n",
       "Landsize            0\n",
       "BuildingArea        0\n",
       "CouncilArea         3\n",
       "Regionname          3\n",
       "Propertycount       0\n",
       "Price            7610\n",
       "dtype: int64"
      ]
     },
     "execution_count": 24,
     "metadata": {},
     "output_type": "execute_result"
    }
   ],
   "source": [
    "df.isnull().sum()"
   ]
  },
  {
   "cell_type": "code",
   "execution_count": 25,
   "metadata": {},
   "outputs": [],
   "source": [
    "df.dropna(inplace=True)"
   ]
  },
  {
   "cell_type": "code",
   "execution_count": 26,
   "metadata": {},
   "outputs": [
    {
     "data": {
      "text/plain": [
       "Suburb           0\n",
       "Rooms            0\n",
       "Type             0\n",
       "Method           0\n",
       "SellerG          0\n",
       "Distance         0\n",
       "Bedroom2         0\n",
       "Bathroom         0\n",
       "Car              0\n",
       "Landsize         0\n",
       "BuildingArea     0\n",
       "CouncilArea      0\n",
       "Regionname       0\n",
       "Propertycount    0\n",
       "Price            0\n",
       "dtype: int64"
      ]
     },
     "execution_count": 26,
     "metadata": {},
     "output_type": "execute_result"
    }
   ],
   "source": [
    "df.isnull().sum()"
   ]
  },
  {
   "cell_type": "code",
   "execution_count": 27,
   "metadata": {},
   "outputs": [
    {
     "name": "stdout",
     "output_type": "stream",
     "text": [
      "<class 'pandas.core.frame.DataFrame'>\n",
      "Int64Index: 27244 entries, 1 to 34856\n",
      "Data columns (total 15 columns):\n",
      " #   Column         Non-Null Count  Dtype  \n",
      "---  ------         --------------  -----  \n",
      " 0   Suburb         27244 non-null  object \n",
      " 1   Rooms          27244 non-null  int64  \n",
      " 2   Type           27244 non-null  object \n",
      " 3   Method         27244 non-null  object \n",
      " 4   SellerG        27244 non-null  object \n",
      " 5   Distance       27244 non-null  float64\n",
      " 6   Bedroom2       27244 non-null  float64\n",
      " 7   Bathroom       27244 non-null  float64\n",
      " 8   Car            27244 non-null  float64\n",
      " 9   Landsize       27244 non-null  float64\n",
      " 10  BuildingArea   27244 non-null  float64\n",
      " 11  CouncilArea    27244 non-null  object \n",
      " 12  Regionname     27244 non-null  object \n",
      " 13  Propertycount  27244 non-null  float64\n",
      " 14  Price          27244 non-null  float64\n",
      "dtypes: float64(8), int64(1), object(6)\n",
      "memory usage: 3.3+ MB\n"
     ]
    }
   ],
   "source": [
    "df.info()"
   ]
  },
  {
   "cell_type": "markdown",
   "metadata": {},
   "source": [
    "## Let's convert object data type or catagorical type into numerics\n",
    "1. label encoder\n",
    "2. get_dummies\n",
    "    - assign a new integer/dummey value based on column data\n",
    "3. one-hot encoder\n"
   ]
  },
  {
   "cell_type": "code",
   "execution_count": 28,
   "metadata": {},
   "outputs": [],
   "source": [
    "df=pd.get_dummies(df,drop_first=True)"
   ]
  },
  {
   "cell_type": "code",
   "execution_count": 29,
   "metadata": {},
   "outputs": [
    {
     "name": "stdout",
     "output_type": "stream",
     "text": [
      "<class 'pandas.core.frame.DataFrame'>\n",
      "Int64Index: 27244 entries, 1 to 34856\n",
      "Columns: 745 entries, Rooms to Regionname_Western Victoria\n",
      "dtypes: float64(8), int64(1), uint8(736)\n",
      "memory usage: 21.2 MB\n"
     ]
    }
   ],
   "source": [
    "df.info()"
   ]
  },
  {
   "cell_type": "code",
   "execution_count": 30,
   "metadata": {},
   "outputs": [
    {
     "data": {
      "text/html": [
       "<div>\n",
       "<style scoped>\n",
       "    .dataframe tbody tr th:only-of-type {\n",
       "        vertical-align: middle;\n",
       "    }\n",
       "\n",
       "    .dataframe tbody tr th {\n",
       "        vertical-align: top;\n",
       "    }\n",
       "\n",
       "    .dataframe thead th {\n",
       "        text-align: right;\n",
       "    }\n",
       "</style>\n",
       "<table border=\"1\" class=\"dataframe\">\n",
       "  <thead>\n",
       "    <tr style=\"text-align: right;\">\n",
       "      <th></th>\n",
       "      <th>Rooms</th>\n",
       "      <th>Distance</th>\n",
       "      <th>Bedroom2</th>\n",
       "      <th>Bathroom</th>\n",
       "      <th>Car</th>\n",
       "      <th>Landsize</th>\n",
       "      <th>BuildingArea</th>\n",
       "      <th>Propertycount</th>\n",
       "      <th>Price</th>\n",
       "      <th>Suburb_Aberfeldie</th>\n",
       "      <th>...</th>\n",
       "      <th>CouncilArea_Wyndham City Council</th>\n",
       "      <th>CouncilArea_Yarra City Council</th>\n",
       "      <th>CouncilArea_Yarra Ranges Shire Council</th>\n",
       "      <th>Regionname_Eastern Victoria</th>\n",
       "      <th>Regionname_Northern Metropolitan</th>\n",
       "      <th>Regionname_Northern Victoria</th>\n",
       "      <th>Regionname_South-Eastern Metropolitan</th>\n",
       "      <th>Regionname_Southern Metropolitan</th>\n",
       "      <th>Regionname_Western Metropolitan</th>\n",
       "      <th>Regionname_Western Victoria</th>\n",
       "    </tr>\n",
       "  </thead>\n",
       "  <tbody>\n",
       "    <tr>\n",
       "      <th>1</th>\n",
       "      <td>2</td>\n",
       "      <td>2.5</td>\n",
       "      <td>2.0</td>\n",
       "      <td>1.0</td>\n",
       "      <td>1.0</td>\n",
       "      <td>202.0</td>\n",
       "      <td>160.2564</td>\n",
       "      <td>4019.0</td>\n",
       "      <td>1480000.0</td>\n",
       "      <td>0</td>\n",
       "      <td>...</td>\n",
       "      <td>0</td>\n",
       "      <td>1</td>\n",
       "      <td>0</td>\n",
       "      <td>0</td>\n",
       "      <td>1</td>\n",
       "      <td>0</td>\n",
       "      <td>0</td>\n",
       "      <td>0</td>\n",
       "      <td>0</td>\n",
       "      <td>0</td>\n",
       "    </tr>\n",
       "    <tr>\n",
       "      <th>2</th>\n",
       "      <td>2</td>\n",
       "      <td>2.5</td>\n",
       "      <td>2.0</td>\n",
       "      <td>1.0</td>\n",
       "      <td>0.0</td>\n",
       "      <td>156.0</td>\n",
       "      <td>79.0000</td>\n",
       "      <td>4019.0</td>\n",
       "      <td>1035000.0</td>\n",
       "      <td>0</td>\n",
       "      <td>...</td>\n",
       "      <td>0</td>\n",
       "      <td>1</td>\n",
       "      <td>0</td>\n",
       "      <td>0</td>\n",
       "      <td>1</td>\n",
       "      <td>0</td>\n",
       "      <td>0</td>\n",
       "      <td>0</td>\n",
       "      <td>0</td>\n",
       "      <td>0</td>\n",
       "    </tr>\n",
       "    <tr>\n",
       "      <th>4</th>\n",
       "      <td>3</td>\n",
       "      <td>2.5</td>\n",
       "      <td>3.0</td>\n",
       "      <td>2.0</td>\n",
       "      <td>0.0</td>\n",
       "      <td>134.0</td>\n",
       "      <td>150.0000</td>\n",
       "      <td>4019.0</td>\n",
       "      <td>1465000.0</td>\n",
       "      <td>0</td>\n",
       "      <td>...</td>\n",
       "      <td>0</td>\n",
       "      <td>1</td>\n",
       "      <td>0</td>\n",
       "      <td>0</td>\n",
       "      <td>1</td>\n",
       "      <td>0</td>\n",
       "      <td>0</td>\n",
       "      <td>0</td>\n",
       "      <td>0</td>\n",
       "      <td>0</td>\n",
       "    </tr>\n",
       "    <tr>\n",
       "      <th>5</th>\n",
       "      <td>3</td>\n",
       "      <td>2.5</td>\n",
       "      <td>3.0</td>\n",
       "      <td>2.0</td>\n",
       "      <td>1.0</td>\n",
       "      <td>94.0</td>\n",
       "      <td>160.2564</td>\n",
       "      <td>4019.0</td>\n",
       "      <td>850000.0</td>\n",
       "      <td>0</td>\n",
       "      <td>...</td>\n",
       "      <td>0</td>\n",
       "      <td>1</td>\n",
       "      <td>0</td>\n",
       "      <td>0</td>\n",
       "      <td>1</td>\n",
       "      <td>0</td>\n",
       "      <td>0</td>\n",
       "      <td>0</td>\n",
       "      <td>0</td>\n",
       "      <td>0</td>\n",
       "    </tr>\n",
       "    <tr>\n",
       "      <th>6</th>\n",
       "      <td>4</td>\n",
       "      <td>2.5</td>\n",
       "      <td>3.0</td>\n",
       "      <td>1.0</td>\n",
       "      <td>2.0</td>\n",
       "      <td>120.0</td>\n",
       "      <td>142.0000</td>\n",
       "      <td>4019.0</td>\n",
       "      <td>1600000.0</td>\n",
       "      <td>0</td>\n",
       "      <td>...</td>\n",
       "      <td>0</td>\n",
       "      <td>1</td>\n",
       "      <td>0</td>\n",
       "      <td>0</td>\n",
       "      <td>1</td>\n",
       "      <td>0</td>\n",
       "      <td>0</td>\n",
       "      <td>0</td>\n",
       "      <td>0</td>\n",
       "      <td>0</td>\n",
       "    </tr>\n",
       "  </tbody>\n",
       "</table>\n",
       "<p>5 rows × 745 columns</p>\n",
       "</div>"
      ],
      "text/plain": [
       "   Rooms  Distance  Bedroom2  Bathroom  Car  Landsize  BuildingArea  \\\n",
       "1      2       2.5       2.0       1.0  1.0     202.0      160.2564   \n",
       "2      2       2.5       2.0       1.0  0.0     156.0       79.0000   \n",
       "4      3       2.5       3.0       2.0  0.0     134.0      150.0000   \n",
       "5      3       2.5       3.0       2.0  1.0      94.0      160.2564   \n",
       "6      4       2.5       3.0       1.0  2.0     120.0      142.0000   \n",
       "\n",
       "   Propertycount      Price  Suburb_Aberfeldie  ...  \\\n",
       "1         4019.0  1480000.0                  0  ...   \n",
       "2         4019.0  1035000.0                  0  ...   \n",
       "4         4019.0  1465000.0                  0  ...   \n",
       "5         4019.0   850000.0                  0  ...   \n",
       "6         4019.0  1600000.0                  0  ...   \n",
       "\n",
       "   CouncilArea_Wyndham City Council  CouncilArea_Yarra City Council  \\\n",
       "1                                 0                               1   \n",
       "2                                 0                               1   \n",
       "4                                 0                               1   \n",
       "5                                 0                               1   \n",
       "6                                 0                               1   \n",
       "\n",
       "   CouncilArea_Yarra Ranges Shire Council  Regionname_Eastern Victoria  \\\n",
       "1                                       0                            0   \n",
       "2                                       0                            0   \n",
       "4                                       0                            0   \n",
       "5                                       0                            0   \n",
       "6                                       0                            0   \n",
       "\n",
       "   Regionname_Northern Metropolitan  Regionname_Northern Victoria  \\\n",
       "1                                 1                             0   \n",
       "2                                 1                             0   \n",
       "4                                 1                             0   \n",
       "5                                 1                             0   \n",
       "6                                 1                             0   \n",
       "\n",
       "   Regionname_South-Eastern Metropolitan  Regionname_Southern Metropolitan  \\\n",
       "1                                      0                                 0   \n",
       "2                                      0                                 0   \n",
       "4                                      0                                 0   \n",
       "5                                      0                                 0   \n",
       "6                                      0                                 0   \n",
       "\n",
       "   Regionname_Western Metropolitan  Regionname_Western Victoria  \n",
       "1                                0                            0  \n",
       "2                                0                            0  \n",
       "4                                0                            0  \n",
       "5                                0                            0  \n",
       "6                                0                            0  \n",
       "\n",
       "[5 rows x 745 columns]"
      ]
     },
     "execution_count": 30,
     "metadata": {},
     "output_type": "execute_result"
    }
   ],
   "source": [
    "df.head()"
   ]
  },
  {
   "cell_type": "markdown",
   "metadata": {},
   "source": [
    "## 3. Separate or define input and output"
   ]
  },
  {
   "cell_type": "code",
   "execution_count": 31,
   "metadata": {},
   "outputs": [],
   "source": [
    "x=df.drop(\"Price\",axis=1)\n",
    "y=df['Price']"
   ]
  },
  {
   "cell_type": "code",
   "execution_count": 35,
   "metadata": {},
   "outputs": [
    {
     "data": {
      "text/plain": [
       "Index(['Rooms', 'Distance', 'Bedroom2', 'Bathroom', 'Car', 'Landsize',\n",
       "       'BuildingArea', 'Propertycount', 'Suburb_Aberfeldie',\n",
       "       'Suburb_Airport West',\n",
       "       ...\n",
       "       'CouncilArea_Wyndham City Council', 'CouncilArea_Yarra City Council',\n",
       "       'CouncilArea_Yarra Ranges Shire Council', 'Regionname_Eastern Victoria',\n",
       "       'Regionname_Northern Metropolitan', 'Regionname_Northern Victoria',\n",
       "       'Regionname_South-Eastern Metropolitan',\n",
       "       'Regionname_Southern Metropolitan', 'Regionname_Western Metropolitan',\n",
       "       'Regionname_Western Victoria'],\n",
       "      dtype='object', length=744)"
      ]
     },
     "execution_count": 35,
     "metadata": {},
     "output_type": "execute_result"
    }
   ],
   "source": [
    "x.columns"
   ]
  },
  {
   "cell_type": "code",
   "execution_count": 37,
   "metadata": {},
   "outputs": [
    {
     "data": {
      "text/plain": [
       "1        1480000.0\n",
       "2        1035000.0\n",
       "4        1465000.0\n",
       "5         850000.0\n",
       "6        1600000.0\n",
       "           ...    \n",
       "34852    1480000.0\n",
       "34853     888000.0\n",
       "34854     705000.0\n",
       "34855    1140000.0\n",
       "34856    1020000.0\n",
       "Name: Price, Length: 27244, dtype: float64"
      ]
     },
     "execution_count": 37,
     "metadata": {},
     "output_type": "execute_result"
    }
   ],
   "source": [
    "y"
   ]
  },
  {
   "cell_type": "code",
   "execution_count": 49,
   "metadata": {},
   "outputs": [],
   "source": [
    "## separate the data for training and testing\n",
    "from sklearn.model_selection import  train_test_split\n",
    "x_train,x_test,y_train,y_test=train_test_split(x,y,train_size=0.7,random_state=2)"
   ]
  },
  {
   "cell_type": "code",
   "execution_count": 50,
   "metadata": {},
   "outputs": [
    {
     "data": {
      "text/plain": [
       "(8174, 744)"
      ]
     },
     "execution_count": 50,
     "metadata": {},
     "output_type": "execute_result"
    }
   ],
   "source": [
    "x_test.shape"
   ]
  },
  {
   "cell_type": "code",
   "execution_count": 51,
   "metadata": {},
   "outputs": [
    {
     "data": {
      "text/plain": [
       "(19070, 744)"
      ]
     },
     "execution_count": 51,
     "metadata": {},
     "output_type": "execute_result"
    }
   ],
   "source": [
    "x_train.shape"
   ]
  },
  {
   "cell_type": "code",
   "execution_count": 52,
   "metadata": {},
   "outputs": [
    {
     "data": {
      "text/plain": [
       "(19070,)"
      ]
     },
     "execution_count": 52,
     "metadata": {},
     "output_type": "execute_result"
    }
   ],
   "source": [
    "y_train.shape"
   ]
  },
  {
   "cell_type": "code",
   "execution_count": 53,
   "metadata": {},
   "outputs": [
    {
     "data": {
      "text/plain": [
       "(8174,)"
      ]
     },
     "execution_count": 53,
     "metadata": {},
     "output_type": "execute_result"
    }
   ],
   "source": [
    "y_test.shape"
   ]
  },
  {
   "cell_type": "markdown",
   "metadata": {},
   "source": [
    "## 4. Train the model"
   ]
  },
  {
   "cell_type": "code",
   "execution_count": 54,
   "metadata": {},
   "outputs": [],
   "source": [
    "from sklearn.linear_model import LinearRegression\n",
    "l=LinearRegression()"
   ]
  },
  {
   "cell_type": "code",
   "execution_count": 55,
   "metadata": {},
   "outputs": [
    {
     "data": {
      "text/plain": [
       "LinearRegression()"
      ]
     },
     "execution_count": 55,
     "metadata": {},
     "output_type": "execute_result"
    }
   ],
   "source": [
    "l.fit(x_train,y_train)"
   ]
  },
  {
   "cell_type": "code",
   "execution_count": 56,
   "metadata": {},
   "outputs": [
    {
     "data": {
      "text/plain": [
       "68.27792395792723"
      ]
     },
     "execution_count": 56,
     "metadata": {},
     "output_type": "execute_result"
    }
   ],
   "source": [
    "l.score(x_train,y_train)*100"
   ]
  },
  {
   "cell_type": "code",
   "execution_count": 57,
   "metadata": {},
   "outputs": [
    {
     "data": {
      "text/plain": [
       "13.853683161615448"
      ]
     },
     "execution_count": 57,
     "metadata": {},
     "output_type": "execute_result"
    }
   ],
   "source": [
    "l.score(x_test,y_test)*100"
   ]
  },
  {
   "cell_type": "markdown",
   "metadata": {},
   "source": [
    "##  The model is overfitted \n",
    "- to overcome the l1,l2 can be used"
   ]
  },
  {
   "cell_type": "code",
   "execution_count": 65,
   "metadata": {},
   "outputs": [
    {
     "name": "stderr",
     "output_type": "stream",
     "text": [
      "C:\\ProgramData\\Anaconda3\\lib\\site-packages\\sklearn\\linear_model\\_coordinate_descent.py:529: ConvergenceWarning: Objective did not converge. You might want to increase the number of iterations. Duality gap: 167003842526655.0, tolerance: 796258688308.2224\n",
      "  model = cd_fast.enet_coordinate_descent(\n"
     ]
    },
    {
     "data": {
      "text/plain": [
       "Lasso(alpha=70)"
      ]
     },
     "execution_count": 65,
     "metadata": {},
     "output_type": "execute_result"
    }
   ],
   "source": [
    "from sklearn.linear_model import Lasso\n",
    "la=Lasso(alpha=70)\n",
    "la.fit(x_train,y_train)"
   ]
  },
  {
   "cell_type": "code",
   "execution_count": 66,
   "metadata": {},
   "outputs": [
    {
     "data": {
      "text/plain": [
       "67.47760108046225"
      ]
     },
     "execution_count": 66,
     "metadata": {},
     "output_type": "execute_result"
    }
   ],
   "source": [
    "la.score(x_train,y_train)*100"
   ]
  },
  {
   "cell_type": "code",
   "execution_count": 67,
   "metadata": {},
   "outputs": [
    {
     "data": {
      "text/plain": [
       "67.30494959505434"
      ]
     },
     "execution_count": 67,
     "metadata": {},
     "output_type": "execute_result"
    }
   ],
   "source": [
    "la.score(x_test,y_test)*100"
   ]
  },
  {
   "cell_type": "code",
   "execution_count": 73,
   "metadata": {},
   "outputs": [],
   "source": [
    "from sklearn.linear_model import Ridge\n",
    "r=Ridge(alpha=50)"
   ]
  },
  {
   "cell_type": "code",
   "execution_count": 74,
   "metadata": {},
   "outputs": [
    {
     "data": {
      "text/plain": [
       "Ridge(alpha=50)"
      ]
     },
     "execution_count": 74,
     "metadata": {},
     "output_type": "execute_result"
    }
   ],
   "source": [
    "r.fit(x_train,y_train)"
   ]
  },
  {
   "cell_type": "code",
   "execution_count": 75,
   "metadata": {},
   "outputs": [
    {
     "data": {
      "text/plain": [
       "66.22376739684329"
      ]
     },
     "execution_count": 75,
     "metadata": {},
     "output_type": "execute_result"
    }
   ],
   "source": [
    "r.score(x_train,y_train)*100"
   ]
  },
  {
   "cell_type": "code",
   "execution_count": 76,
   "metadata": {},
   "outputs": [
    {
     "data": {
      "text/plain": [
       "66.70848945194959"
      ]
     },
     "execution_count": 76,
     "metadata": {},
     "output_type": "execute_result"
    }
   ],
   "source": [
    "r.score(x_test,y_test)*100"
   ]
  },
  {
   "cell_type": "code",
   "execution_count": 77,
   "metadata": {},
   "outputs": [
    {
     "data": {
      "text/plain": [
       "array([ 2.64001655e+05, -4.64732744e+04, -8.22349031e+04,  1.17151153e+05,\n",
       "        4.29703140e+04,  2.35173742e+00,  4.70024530e+02,  4.92118905e+00,\n",
       "        2.61342069e+05, -4.61008827e+04, -1.32312259e+05,  2.15453995e+05,\n",
       "        1.20133839e+05,  2.72683980e+05,  1.74702166e+05, -8.00201053e+04,\n",
       "       -1.50967673e+05, -4.94461444e+04,  1.17711126e+05, -1.28880253e+05,\n",
       "       -3.49349656e+04, -8.54261329e+03,  6.19157896e+04, -2.57258028e+05,\n",
       "       -1.10868116e+05, -2.42391674e+05,  1.79856957e+05, -1.22395100e+05,\n",
       "        2.04625284e+05,  3.78258911e+04,  1.46681364e+05,  2.32198628e+03,\n",
       "        7.35395730e+04, -5.29198409e+04,  1.90482393e+05, -3.20451670e+05,\n",
       "        7.49515014e+04, -2.83019804e+04,  2.69103300e+04,  2.78824270e+05,\n",
       "        1.51386730e+05, -1.06324212e+05, -8.45087700e+04,  2.96568248e+05,\n",
       "        1.50644588e+05,  4.14438546e-08,  1.75999576e+05, -1.20057166e+05,\n",
       "       -9.64544651e+03,  3.68377378e+05, -1.35478625e+05, -6.38092126e+04,\n",
       "        3.53493140e+04,  1.12364756e+05,  1.50210824e+04,  3.80702958e+04,\n",
       "       -2.07783976e+04, -4.09781933e-08, -2.80289620e+05,  3.62799617e+06,\n",
       "       -1.70813150e+05,  4.34592162e+03, -2.42377714e+05, -3.46858959e+05,\n",
       "       -5.38387981e+04, -5.68653064e+04, -1.25183575e+05,  7.32456333e+04,\n",
       "       -1.49059860e+05,  5.81185670e+05,  1.46226853e+05,  3.17997075e+05,\n",
       "       -4.57316259e+03, -2.55638831e+05,  3.69455304e+05, -1.15029553e+05,\n",
       "       -2.11025506e+05,  8.21526909e+04,  2.36197162e+04,  2.12508573e+04,\n",
       "       -5.82009613e+04,  3.49164828e+05, -4.06742065e+04, -2.43821088e+05,\n",
       "       -2.12390672e+05, -3.73145696e+05,  1.86572073e+04, -2.25972697e+05,\n",
       "        1.27539824e+05,  3.85986055e+05, -1.34115133e+05, -2.24490607e+05,\n",
       "       -1.58738964e+05,  3.20740510e+04, -5.87051930e+04, -8.51778156e+04,\n",
       "        1.43016151e+03,  1.84505150e+04, -5.84566148e+04, -6.55575566e+03,\n",
       "       -2.39441933e+04,  5.22360613e+04, -6.13585217e+04,  4.67653420e+04,\n",
       "        1.11906081e+05, -3.03524602e+05,  4.91638266e+04, -1.10861406e+05,\n",
       "       -3.72529030e-09,  5.25384277e+04, -6.48677726e+04, -4.42026056e+03,\n",
       "       -1.63737753e+05, -1.16744031e+05,  2.08371325e+05, -1.92328642e+05,\n",
       "       -4.19130496e+05, -2.27472230e+04,  1.94858270e+04,  1.13215212e+05,\n",
       "       -2.32309284e+05, -9.15221377e+04,  3.91898843e+05,  3.71809224e+05,\n",
       "        2.14264774e+05,  4.56828686e+04,  1.77559141e+04, -1.93905771e+05,\n",
       "        3.66816256e+04,  3.38113878e+05, -2.79050352e+05, -8.29367251e+04,\n",
       "        9.97135675e+04,  6.29461728e+04, -1.28958954e+04,  3.65253072e-09,\n",
       "       -3.36149242e-09,  1.51675664e+05, -8.34519510e+04,  1.32289977e+05,\n",
       "        7.33416528e-09,  1.88968644e+05,  2.27651164e+05, -7.45096449e+04,\n",
       "       -3.91229683e+04, -8.01720716e+04,  2.10537725e+05,  3.41965886e+03,\n",
       "        4.31104649e+05, -1.41337602e+05,  3.58517423e+06,  3.58964287e+06,\n",
       "       -2.33369616e+05, -2.08870436e+04, -7.74835945e+04,  2.62966427e+05,\n",
       "       -7.85407926e+04, -1.62721244e+05,  6.40544210e+04,  3.09646400e+04,\n",
       "       -1.20989873e+05,  8.61815063e+04,  1.73121003e+05, -2.27069888e+05,\n",
       "       -2.58026614e+04, -2.67500635e+05, -1.32163855e+05,  7.82800590e+05,\n",
       "       -1.24592191e+05,  4.38940519e+04, -1.00942551e+05, -3.11541673e+05,\n",
       "       -4.44153152e+05, -1.21722020e+05, -3.36690866e+04, -1.64000640e+04,\n",
       "        4.89990221e+04, -1.55566512e+05,  4.90631011e+04, -1.47225364e+04,\n",
       "        4.28312699e+05, -1.49880671e+05,  2.32370587e+05, -1.49126738e+05,\n",
       "        1.17089769e+05, -2.21276971e+04,  5.75378587e+04,  2.26855684e+05,\n",
       "       -5.30691460e+04, -7.69823131e+04, -8.66406503e+04, -1.45452985e+05,\n",
       "        4.79451757e+04,  9.64929442e+04, -3.73488957e+04, -7.47806907e+03,\n",
       "        8.85013855e+04, -2.09808037e+04,  6.43567662e+04,  2.69324350e+05,\n",
       "       -1.75802482e+05,  1.60203278e+05,  8.68965151e+03, -1.27725760e+05,\n",
       "        4.32684775e+04,  9.52092705e+04,  1.42820815e+05,  7.56299670e+04,\n",
       "       -6.66299661e+04,  4.12652219e+05, -2.37206273e+04, -1.69397975e+04,\n",
       "        1.99998148e+05, -4.93913355e+04,  8.05303221e+03, -4.09129648e+04,\n",
       "       -4.66189632e+03,  2.43831423e+05,  9.54077116e+04,  7.43722706e+04,\n",
       "        6.84473454e+04,  5.45882056e+05, -1.66101989e+05,  1.00262668e+05,\n",
       "       -2.44312781e+04,  1.07806494e+05, -2.64896940e+04, -3.30293442e+05,\n",
       "        6.83588985e+04, -1.45828165e+05, -2.24756995e+05,  1.74303293e+05,\n",
       "       -7.35196577e+04,  1.39208243e+05, -3.28319733e+04, -8.16548097e+03,\n",
       "        8.29707192e+04, -1.70745894e+07, -4.93877616e+04,  5.62048105e+04,\n",
       "       -4.64607964e+03, -2.94956617e+04,  4.33613194e+05,  1.50951595e+05,\n",
       "        1.10255451e+05,  1.43455317e+04,  1.01343234e+05, -6.23746382e+02,\n",
       "       -3.19540672e+04, -3.66958402e+05,  3.29968639e+04,  1.10537261e+05,\n",
       "        8.45386941e+04,  2.24213986e+05,  3.02731380e+05, -3.73432326e+04,\n",
       "        2.03679807e+05,  3.67140495e+05,  1.90774036e+05, -2.10308058e+05,\n",
       "       -5.41525766e+04, -3.13521550e+05, -1.07316001e+05,  4.35657534e+05,\n",
       "       -2.12983273e+05, -1.27317003e+05, -4.55798871e+03,  3.72013770e+06,\n",
       "        4.28054514e+04,  9.13734826e+04, -6.29598262e+04, -1.22422551e+05,\n",
       "        3.95900570e+05, -1.79171948e+05, -2.23235905e+05, -9.05652185e+04,\n",
       "       -1.24989602e+05,  1.74799999e+05,  8.10324558e+04, -1.75102638e+05,\n",
       "        1.87501424e+05,  6.43885732e+04,  5.78270941e+04,  2.16001414e+05,\n",
       "       -3.82162193e+05, -6.48997659e+04, -1.28734627e+05, -1.10232449e+05,\n",
       "       -9.96186648e+04, -3.99572192e+05, -7.05604302e+04, -3.08505777e+04,\n",
       "        2.95247212e+04,  4.38872026e+04, -2.58987960e+05, -1.48687142e+05,\n",
       "        8.53780738e+04, -1.61286396e+05,  4.70520152e+05,  4.30905486e+04,\n",
       "       -6.68487513e+04, -1.57690339e+05,  2.91622053e+04,  1.16054180e+05,\n",
       "       -5.36171763e+04, -1.91002039e+05, -4.08693867e+04, -2.06637196e-09,\n",
       "        1.13483519e+05, -1.69881830e+05,  1.88296374e+05, -6.03018126e+04,\n",
       "        5.43477940e+04,  7.22834127e+04,  2.18994626e+04, -6.60482469e+04,\n",
       "        1.10944153e+05, -4.88384475e+04, -3.55271264e+04,  3.22133311e+04,\n",
       "       -3.44950732e+05,  4.19717839e+05,  1.59891743e+05, -2.61106654e+05,\n",
       "       -2.25289823e+05,  4.14927680e+05, -2.14622941e+05, -3.20620135e+04,\n",
       "        7.75063095e+04, -7.25080114e+04, -3.16742535e+04, -1.67403490e+05,\n",
       "       -8.77419828e+04, -5.89166674e+04,  4.88562011e+04, -8.08491868e+04,\n",
       "       -1.62022300e+05,  4.65811303e+05,  4.10853539e+05, -1.71988925e+04,\n",
       "        3.03450379e+05, -2.87535372e+03, -1.53891675e+05,  1.42659814e+05,\n",
       "       -4.84645629e+03,  4.05389293e+05, -1.07916354e+05,  2.54322871e+05,\n",
       "        3.84614603e+04, -3.64762626e+04, -3.85480429e+04, -2.74249921e+05,\n",
       "       -4.78638143e+05,  7.13447079e+04,  3.70939160e+04,  3.26116000e+04,\n",
       "        1.47147151e+04, -4.97983196e+04,  1.23665612e+05,  7.53123093e+05,\n",
       "        1.76890126e+05, -1.48429535e-09,  5.14482663e+05,  1.14546661e+05,\n",
       "       -9.80624456e+04, -1.38614089e+05, -1.66790347e+04, -1.12822691e+05,\n",
       "        1.93670126e+05,  2.55161796e+05, -1.57484822e+05, -6.28092130e+04,\n",
       "        1.22195660e+05, -1.12638254e+05,  1.70418827e+05, -1.44523794e+04,\n",
       "        3.52010027e+05,  2.11671077e+05,  9.93172746e+04,  4.16123302e+05,\n",
       "       -7.46423125e+04,  8.45852697e+04, -2.04922789e+03,  8.05677238e+04,\n",
       "        2.74200916e+05,  1.09644553e+05,  5.26628759e+04, -4.65661287e-09,\n",
       "        1.13230018e+05, -3.86353349e-09,  8.08024521e+04,  8.48022697e+05,\n",
       "        3.15776560e-09, -5.58390164e+05,  1.04744352e+05, -2.11658017e+05,\n",
       "       -2.18050205e+04,  1.07178179e+05,  1.82990240e+05,  1.08785559e+05,\n",
       "        5.89172551e+04,  1.70384474e+05, -1.54250301e-09, -9.54807522e+03,\n",
       "        1.09721979e+05, -9.93742188e+04,  3.61972875e+05,  1.51339918e-09,\n",
       "       -5.70535148e+04,  1.04347344e+05, -1.73015750e+05,  4.55491839e+05,\n",
       "        1.40690247e+05, -2.70665623e-09,  1.80955698e+05,  4.93857123e+05,\n",
       "        1.25502353e+05, -5.02929519e+05,  1.56920807e+05, -2.54761319e+05,\n",
       "        1.76535211e+05, -2.09782291e+05,  1.47294579e+05,  2.08252520e+02,\n",
       "        3.66287160e+05,  1.16352975e+05,  2.51706031e+05,  9.00399755e-10,\n",
       "        2.68433601e+05,  1.58093671e+05,  2.57441813e+05, -5.04510781e+03,\n",
       "       -1.71186390e+05, -3.18829114e+03,  9.43052822e+04,  9.44735937e+04,\n",
       "        8.45489742e+04, -2.21451056e+04,  1.37543076e+06,  2.02918365e+05,\n",
       "        7.18308189e+03,  1.32174741e+05, -4.91389112e+03,  2.91038305e-10,\n",
       "       -1.93664878e+05, -7.61071442e+03, -3.18875870e+04,  9.05543135e+04,\n",
       "        1.02563902e+05,  3.80185495e+05,  7.65580296e+04,  9.93937706e+04,\n",
       "        1.18055239e+05,  9.55709321e+04,  1.14506299e+05,  9.12714274e+04,\n",
       "       -1.13332948e+05, -7.39045077e+04,  1.74622983e-10, -3.63797881e-10,\n",
       "        7.47584274e+04,  2.54658516e-10,  2.82127436e+04,  1.21433252e+05,\n",
       "        1.18684248e+05, -3.29414442e+05, -6.75924753e+04,  3.26628034e+04,\n",
       "       -3.92787005e+05, -9.83423504e+04, -5.50663588e+03,  1.20162572e+05,\n",
       "        8.49129927e+04,  5.79639629e+05,  9.91517764e+04,  1.30448391e+06,\n",
       "       -1.18859883e+05, -2.24228911e+05,  9.64116760e+04, -8.79272625e+04,\n",
       "        6.85396694e+04, -3.14994882e+04,  5.30344055e+04,  1.41116158e+05,\n",
       "        2.50683184e+05,  7.79003341e+03,  1.45634191e+06,  1.86064314e+05,\n",
       "        1.31531000e+05,  9.60426405e-10,  8.92378614e+04,  4.07573503e+04,\n",
       "        1.49188947e+04,  9.91561814e+04,  1.36653281e+05, -1.11776899e-09,\n",
       "        1.49569360e+05,  1.17085568e+05,  1.71835072e+05,  1.78020014e+05,\n",
       "        1.21915184e+05, -1.43905679e+05, -4.32528035e+05,  1.92102455e+05,\n",
       "       -1.96934553e+05,  4.68488324e+04, -2.93513773e+05,  5.57081987e+05,\n",
       "       -2.11469696e+05,  1.17235675e+05,  9.18429428e+05, -1.16674010e+04,\n",
       "        1.26746730e+05, -7.53943094e+04,  7.89438422e+04, -1.82950074e+02,\n",
       "        7.74044051e+05, -9.27483690e+04,  2.38338540e+05,  2.07516884e+05,\n",
       "        2.51718322e+04,  1.33933903e+05,  2.75227231e+04,  2.87491294e+04,\n",
       "        2.77899052e+05,  1.39467691e+05, -4.65661287e-10, -4.96560347e+05,\n",
       "        9.59471874e+04,  3.57640140e+05, -1.84383805e+04,  1.06868600e+05,\n",
       "       -3.57217064e+04, -1.53214223e+05, -5.27241786e+04,  1.02512919e+05,\n",
       "        3.83446784e+05, -1.28239558e+05,  7.72616653e+04,  3.30670721e+05,\n",
       "        1.80511050e+05, -4.65661287e-10,  1.23750972e+05, -1.49757037e+05,\n",
       "        1.45519152e-09,  1.58017785e+05, -1.45519152e-10,  7.18798629e+04,\n",
       "       -6.09912947e+04,  2.11310239e+05,  1.97123976e+05,  6.90046026e+04,\n",
       "        1.92850887e+05,  1.11405761e+05,  7.18641121e+05,  2.67202552e+05,\n",
       "        1.20396076e+05, -1.81920829e+05,  1.11717868e+05,  1.46927396e+05,\n",
       "        1.76073719e+05, -2.56586520e+04,  1.03744404e+05,  1.04372243e+05,\n",
       "        2.75725026e+05,  8.87631475e+05, -1.40661348e+04,  4.28234464e+04,\n",
       "        2.40476618e+05,  5.25669353e+04,  2.03726813e-10,  7.36308706e+04,\n",
       "       -1.99177851e+05,  7.73502032e+04,  3.96904685e+05,  1.22746274e+05,\n",
       "        1.25736135e+04,  1.02372881e+05, -4.62355767e+04, -5.72395033e+03,\n",
       "       -5.81698603e+04, -1.77656602e+04,  1.74622983e-09, -1.49447248e+04,\n",
       "        3.04713671e+05,  1.08773530e+05,  1.27825327e+05,  3.27363214e+05,\n",
       "        3.01491136e+05,  3.22605797e+05,  4.23817624e+05,  2.38984594e+04,\n",
       "        1.10893901e+05,  1.10833058e+05,  4.99224168e+04,  2.03726813e-10,\n",
       "        1.45519152e-10,  8.78265313e+04, -2.70844614e+04,  2.13634454e+05,\n",
       "        4.07453626e-10, -3.09386431e+05,  1.74869188e+04,  1.82083979e+05,\n",
       "        7.84253288e+04,  1.24359081e+05,  2.11054351e+04,  3.35096696e+05,\n",
       "        8.94984407e+04,  8.20956293e+04, -5.56144010e+04,  6.04010160e+04,\n",
       "        3.64450459e+04,  6.40284270e-10,  4.47627863e+05,  1.75597620e+05,\n",
       "        1.01251403e+05,  1.34898188e+05,  7.90194943e+04,  8.39610064e+04,\n",
       "       -8.00355338e-11,  1.21505969e+05,  1.58757215e+05,  3.76753394e+04,\n",
       "       -1.68165101e+05,  3.80750152e+05, -3.05349468e+05,  1.82053090e+05,\n",
       "        1.22623995e+05,  2.17097847e+05, -4.07453626e-10, -4.65661287e-10,\n",
       "       -4.15794812e+05,  6.37156712e+04, -1.02596291e+05, -1.02712201e+05,\n",
       "        2.87400326e-10,  1.93156972e+05,  5.82076609e-10,  1.55298937e+06,\n",
       "        1.21398440e+05, -3.49245965e-10, -4.23187911e+03, -7.48296109e+04,\n",
       "        9.25055732e+04,  0.00000000e+00,  9.11296906e+04, -6.80629941e+03,\n",
       "       -2.29192665e-10,  5.00408414e+05, -5.82076609e-11,  6.56807502e+04,\n",
       "       -2.73937792e+04, -1.25520379e+04, -5.08471536e+05, -2.87263009e+04,\n",
       "        1.79261296e+05,  1.39028865e+05, -5.61904998e+05, -2.91038305e-11,\n",
       "        3.61198092e+05,  2.43832418e+05,  1.22216980e+04,  2.91038305e-11,\n",
       "        0.00000000e+00,  0.00000000e+00,  0.00000000e+00, -2.10162309e+05,\n",
       "        1.46042630e+05,  3.94558288e+04,  1.75865554e+05,  1.80934935e+05,\n",
       "        6.56774151e+04,  0.00000000e+00,  1.08108392e+05, -4.81375842e+04,\n",
       "       -8.80354052e+04,  3.64996443e+05,  5.22248384e+04,  6.52251781e+04,\n",
       "        1.27802669e+05,  1.44424475e+05, -3.42064972e+04,  3.36774085e+04,\n",
       "        8.43057920e+04, -1.44455922e+04, -2.45114659e+05,  8.96434739e+04,\n",
       "        2.90705747e+04,  2.56370954e+05,  4.19635090e+04,  2.53727923e+05,\n",
       "        2.89923960e+05,  0.00000000e+00,  1.64218522e+05,  0.00000000e+00,\n",
       "        6.34959842e+05,  1.36601956e+05,  3.40256922e+05,  8.36021884e+04,\n",
       "        0.00000000e+00,  0.00000000e+00,  1.74777311e+05,  1.90932861e+05,\n",
       "       -1.11791365e+04,  4.57513423e+05,  3.42212920e+05, -1.52759812e+05,\n",
       "        4.76269168e+05,  2.35751036e+05,  2.89422194e+04,  3.70585386e+05,\n",
       "        1.43902269e+05, -1.97243398e+04, -4.25829580e+04, -3.71251895e+04,\n",
       "        2.30153703e+05,  1.11152390e+05, -2.55163838e+06,  1.34732814e+05,\n",
       "       -1.16876625e+05,  1.39810549e+05,  4.22122163e+04, -1.23209577e+04,\n",
       "        4.19717839e+05,  7.65053785e+04,  6.42879529e+04,  1.79856957e+05,\n",
       "       -3.82877636e+04,  2.56105949e+05,  1.21886580e+05,  3.29761347e+05,\n",
       "        1.31991945e+05,  8.74679302e+04, -1.47280371e+05,  2.17770891e+04,\n",
       "        2.12321402e+05,  2.23139975e+05, -2.16051847e+05, -8.03539773e+04,\n",
       "        1.29462472e+05,  1.96957251e+04, -2.16808841e+05,  1.69631410e+05])"
      ]
     },
     "execution_count": 77,
     "metadata": {},
     "output_type": "execute_result"
    }
   ],
   "source": [
    "l.coef_"
   ]
  },
  {
   "cell_type": "code",
   "execution_count": 78,
   "metadata": {},
   "outputs": [
    {
     "data": {
      "text/plain": [
       "array([ 2.72140472e+05, -2.87681250e+04, -8.53952474e+04,  1.24312283e+05,\n",
       "        4.13419905e+04,  2.56573736e+00,  2.92132480e+01,  2.65680559e+00,\n",
       "        2.14581446e+05, -1.15763864e+05, -0.00000000e+00,  3.58433614e+05,\n",
       "        1.42899144e+05,  3.23370231e+05,  1.33683095e+05, -7.16600738e+04,\n",
       "       -1.24774887e+05, -0.00000000e+00,  1.49270783e+04, -7.56456224e+04,\n",
       "       -3.95882406e+04,  0.00000000e+00,  3.37354944e+02, -1.10763963e+05,\n",
       "       -0.00000000e+00, -2.63114204e+05,  0.00000000e+00, -0.00000000e+00,\n",
       "        2.11007735e+05,  4.50690203e+04,  0.00000000e+00, -0.00000000e+00,\n",
       "        0.00000000e+00, -0.00000000e+00,  1.55870509e+05, -1.73887496e+05,\n",
       "        2.30395325e+04, -8.98852537e+04,  8.28708835e+04,  2.08151185e+05,\n",
       "        1.80902176e+05, -0.00000000e+00, -0.00000000e+00,  0.00000000e+00,\n",
       "        0.00000000e+00,  0.00000000e+00,  2.43851681e+05, -1.26802937e+05,\n",
       "       -0.00000000e+00,  4.81560987e+05, -1.01744414e+04,  1.65037550e+04,\n",
       "        0.00000000e+00,  1.76308191e+05,  5.98390503e+04,  7.41240454e+04,\n",
       "        3.75722540e+03,  0.00000000e+00, -1.67255844e+05,  0.00000000e+00,\n",
       "       -1.77650995e+05, -0.00000000e+00, -0.00000000e+00, -0.00000000e+00,\n",
       "       -0.00000000e+00, -0.00000000e+00, -2.48481458e+04,  1.02569710e+05,\n",
       "       -0.00000000e+00,  5.64609997e+05,  1.34560055e+05,  2.87261385e+05,\n",
       "       -2.39301786e+04, -0.00000000e+00,  1.30927512e+05, -1.48186810e+05,\n",
       "       -1.14949633e+05,  0.00000000e+00,  1.90287631e+04,  1.13845806e+03,\n",
       "       -2.63495992e+04,  1.98180398e+05, -0.00000000e+00, -2.45073201e+05,\n",
       "       -0.00000000e+00, -2.00146732e+05,  7.01009581e+04, -7.89844969e+04,\n",
       "        6.42070835e+04,  0.00000000e+00, -4.93374663e+04, -1.55702772e+05,\n",
       "       -0.00000000e+00,  0.00000000e+00, -0.00000000e+00, -5.76076712e+04,\n",
       "       -0.00000000e+00,  0.00000000e+00, -0.00000000e+00, -0.00000000e+00,\n",
       "       -0.00000000e+00,  0.00000000e+00, -0.00000000e+00, -0.00000000e+00,\n",
       "        0.00000000e+00, -1.45766646e+05, -0.00000000e+00, -1.11171006e+05,\n",
       "        0.00000000e+00,  0.00000000e+00, -4.83567985e+03, -0.00000000e+00,\n",
       "       -0.00000000e+00, -0.00000000e+00,  0.00000000e+00, -1.36002252e+05,\n",
       "       -4.88293319e+02,  0.00000000e+00,  2.78778882e+04,  4.77833367e+04,\n",
       "       -1.97039201e+05, -0.00000000e+00,  4.06990393e+05,  3.39473217e+05,\n",
       "        8.41030213e+04,  5.10931478e+04, -3.71552328e+04, -1.89666913e+05,\n",
       "        1.15447784e+05,  0.00000000e+00, -9.24544263e+04, -7.79208525e+03,\n",
       "        1.06220147e+05,  0.00000000e+00, -0.00000000e+00,  0.00000000e+00,\n",
       "        0.00000000e+00,  2.12389436e+05,  3.77550051e+04,  3.27028809e+04,\n",
       "        0.00000000e+00,  1.57428790e+05,  2.99532360e+05, -7.94565974e+04,\n",
       "        0.00000000e+00, -0.00000000e+00,  4.68979847e+04, -0.00000000e+00,\n",
       "        2.16653903e+05, -0.00000000e+00,  0.00000000e+00,  0.00000000e+00,\n",
       "       -0.00000000e+00, -1.42550657e+04, -3.94343640e+04,  2.07207846e+05,\n",
       "       -1.48227890e+05, -1.57452178e+05, -2.72365826e+02,  1.96909482e+04,\n",
       "       -1.78952354e+05,  0.00000000e+00,  2.23058243e+05, -1.65991755e+05,\n",
       "       -0.00000000e+00, -1.66627544e+05, -6.29513121e+04,  0.00000000e+00,\n",
       "       -0.00000000e+00,  0.00000000e+00, -2.10561550e+04, -2.55830442e+05,\n",
       "       -3.77689416e+05, -7.52293794e+04, -3.72807703e+04,  0.00000000e+00,\n",
       "        2.15926954e+04, -0.00000000e+00, -0.00000000e+00,  6.90700181e+04,\n",
       "        4.72840813e+05, -2.21942797e+04,  0.00000000e+00, -8.14591230e+04,\n",
       "        1.23203525e+04, -0.00000000e+00,  1.07090555e+05,  0.00000000e+00,\n",
       "       -0.00000000e+00, -7.86174961e+04, -0.00000000e+00, -9.04746736e+04,\n",
       "       -0.00000000e+00, -0.00000000e+00, -0.00000000e+00, -0.00000000e+00,\n",
       "        6.19479937e+04, -0.00000000e+00,  0.00000000e+00, -0.00000000e+00,\n",
       "       -3.23096684e+04,  0.00000000e+00, -0.00000000e+00, -0.00000000e+00,\n",
       "        0.00000000e+00,  0.00000000e+00,  0.00000000e+00,  5.93052121e+03,\n",
       "       -5.85227041e+04,  3.05638250e+05, -1.62595318e+05, -0.00000000e+00,\n",
       "        7.86377170e+04,  0.00000000e+00,  4.39778448e+04, -0.00000000e+00,\n",
       "        0.00000000e+00, -0.00000000e+00,  1.13432924e+05,  0.00000000e+00,\n",
       "        0.00000000e+00,  6.71923585e+05, -6.05971020e+04,  8.50689776e+04,\n",
       "       -0.00000000e+00,  1.98896920e+04, -4.04230226e+04, -0.00000000e+00,\n",
       "        8.29210799e+04, -1.11283901e+05, -2.28905799e+04,  1.54170045e+05,\n",
       "       -0.00000000e+00,  1.22400039e+05, -0.00000000e+00, -3.51938056e+04,\n",
       "        0.00000000e+00, -0.00000000e+00,  1.54614018e+03,  0.00000000e+00,\n",
       "       -0.00000000e+00, -3.88932048e+03,  0.00000000e+00,  2.61005401e+05,\n",
       "        0.00000000e+00, -0.00000000e+00,  9.74381846e+03,  0.00000000e+00,\n",
       "       -0.00000000e+00, -2.21339585e+05,  0.00000000e+00,  4.48346396e+04,\n",
       "        0.00000000e+00,  2.09975001e+05,  2.82098308e+05, -5.83816415e+04,\n",
       "        0.00000000e+00,  0.00000000e+00,  0.00000000e+00, -9.34406444e+04,\n",
       "        8.85553547e+03, -3.56548356e+05, -3.17997216e+04,  2.99283358e+05,\n",
       "       -0.00000000e+00, -8.83688101e+04, -0.00000000e+00,  0.00000000e+00,\n",
       "        2.25710634e+04,  3.13841600e+04, -1.01583890e+05, -0.00000000e+00,\n",
       "        0.00000000e+00, -1.25140025e+05, -6.64080418e+04, -7.23345374e+04,\n",
       "       -0.00000000e+00,  1.70111650e+05,  0.00000000e+00, -0.00000000e+00,\n",
       "        0.00000000e+00,  0.00000000e+00,  6.72312850e+04,  0.00000000e+00,\n",
       "       -0.00000000e+00, -0.00000000e+00,  4.85460573e+04, -4.10789049e+04,\n",
       "       -1.31734237e+03, -2.65603069e+05,  0.00000000e+00,  0.00000000e+00,\n",
       "        0.00000000e+00,  7.50797909e+04, -1.18322448e+05, -4.90093527e+03,\n",
       "        4.08295354e+04, -5.07827588e+04,  3.38323816e+05,  9.86889045e+04,\n",
       "       -0.00000000e+00, -8.11850503e+04,  0.00000000e+00,  4.55609392e+03,\n",
       "       -0.00000000e+00, -0.00000000e+00, -9.28048929e+02,  0.00000000e+00,\n",
       "        8.52092711e+04, -1.27093544e+05, -0.00000000e+00,  4.80123000e+04,\n",
       "        1.31712439e+05,  1.72458044e+04,  0.00000000e+00,  0.00000000e+00,\n",
       "        1.16998652e+05,  0.00000000e+00,  0.00000000e+00,  0.00000000e+00,\n",
       "       -3.03035448e+05,  0.00000000e+00,  0.00000000e+00, -1.22993257e+05,\n",
       "       -9.01147209e+04,  9.28870901e+04, -0.00000000e+00,  0.00000000e+00,\n",
       "       -0.00000000e+00, -8.03293136e+04, -0.00000000e+00, -6.05267183e+04,\n",
       "       -0.00000000e+00, -2.99592543e+04,  1.92328884e+02, -0.00000000e+00,\n",
       "       -6.76213989e+04,  0.00000000e+00,  0.00000000e+00,  0.00000000e+00,\n",
       "        3.58164719e+05,  0.00000000e+00, -7.24056303e+03,  2.68714518e+04,\n",
       "        0.00000000e+00,  2.14807183e+05, -1.29506408e+05,  0.00000000e+00,\n",
       "        5.11186830e+04, -0.00000000e+00,  0.00000000e+00, -2.74166909e+05,\n",
       "       -4.75959453e+05,  6.56170601e+04,  1.74057107e+04,  2.70612190e+04,\n",
       "        1.29803349e+04, -0.00000000e+00,  0.00000000e+00,  6.10168967e+05,\n",
       "        0.00000000e+00,  0.00000000e+00,  0.00000000e+00,  0.00000000e+00,\n",
       "       -0.00000000e+00, -0.00000000e+00, -0.00000000e+00, -0.00000000e+00,\n",
       "        0.00000000e+00,  0.00000000e+00, -0.00000000e+00, -0.00000000e+00,\n",
       "        0.00000000e+00, -0.00000000e+00,  0.00000000e+00, -0.00000000e+00,\n",
       "        0.00000000e+00,  8.73489681e+04, -9.16987062e+02,  0.00000000e+00,\n",
       "       -0.00000000e+00, -0.00000000e+00, -4.34670603e+04, -0.00000000e+00,\n",
       "        0.00000000e+00,  0.00000000e+00, -0.00000000e+00,  0.00000000e+00,\n",
       "        1.36910184e+04,  0.00000000e+00,  0.00000000e+00,  0.00000000e+00,\n",
       "        0.00000000e+00, -0.00000000e+00, -0.00000000e+00, -0.00000000e+00,\n",
       "       -0.00000000e+00,  1.16952551e+04,  0.00000000e+00, -1.42714544e+04,\n",
       "        0.00000000e+00,  2.52381436e+04,  0.00000000e+00, -0.00000000e+00,\n",
       "        1.96134810e+04, -0.00000000e+00,  0.00000000e+00,  0.00000000e+00,\n",
       "       -0.00000000e+00, -0.00000000e+00, -0.00000000e+00,  3.46860995e+05,\n",
       "        0.00000000e+00,  0.00000000e+00,  6.29731174e+03,  3.38750474e+05,\n",
       "        2.71884718e+04, -0.00000000e+00,  0.00000000e+00, -0.00000000e+00,\n",
       "        2.04152952e+04, -0.00000000e+00,  5.31278491e+04, -0.00000000e+00,\n",
       "        0.00000000e+00,  0.00000000e+00,  1.54550610e+05,  0.00000000e+00,\n",
       "        0.00000000e+00,  0.00000000e+00,  0.00000000e+00, -5.58467347e+04,\n",
       "       -0.00000000e+00, -0.00000000e+00, -0.00000000e+00, -0.00000000e+00,\n",
       "       -0.00000000e+00,  0.00000000e+00,  6.31422411e+05,  5.13130714e+04,\n",
       "       -0.00000000e+00,  0.00000000e+00, -6.61749175e+04,  0.00000000e+00,\n",
       "       -0.00000000e+00, -9.36842996e+02, -0.00000000e+00, -0.00000000e+00,\n",
       "        0.00000000e+00,  0.00000000e+00, -0.00000000e+00,  0.00000000e+00,\n",
       "        0.00000000e+00,  0.00000000e+00, -0.00000000e+00,  2.54911726e+02,\n",
       "       -0.00000000e+00, -0.00000000e+00,  0.00000000e+00,  0.00000000e+00,\n",
       "       -0.00000000e+00,  0.00000000e+00, -0.00000000e+00,  0.00000000e+00,\n",
       "       -0.00000000e+00, -0.00000000e+00, -0.00000000e+00, -4.86946931e+04,\n",
       "       -0.00000000e+00, -0.00000000e+00, -0.00000000e+00,  2.54727337e+04,\n",
       "       -0.00000000e+00,  0.00000000e+00, -0.00000000e+00,  9.86631250e+05,\n",
       "       -0.00000000e+00, -0.00000000e+00, -0.00000000e+00, -1.20534977e+05,\n",
       "       -0.00000000e+00, -0.00000000e+00, -2.29043439e+04,  0.00000000e+00,\n",
       "        0.00000000e+00, -0.00000000e+00,  5.68615057e+03,  0.00000000e+00,\n",
       "        0.00000000e+00,  0.00000000e+00,  0.00000000e+00, -0.00000000e+00,\n",
       "       -0.00000000e+00,  0.00000000e+00,  0.00000000e+00,  0.00000000e+00,\n",
       "        4.89813445e+04,  0.00000000e+00,  8.41156126e+04,  0.00000000e+00,\n",
       "        0.00000000e+00, -0.00000000e+00, -0.00000000e+00,  0.00000000e+00,\n",
       "       -0.00000000e+00, -0.00000000e+00, -0.00000000e+00,  4.62876608e+05,\n",
       "       -0.00000000e+00,  0.00000000e+00,  3.88977775e+05, -0.00000000e+00,\n",
       "        0.00000000e+00, -1.40437476e+05, -3.14002047e+02, -0.00000000e+00,\n",
       "        4.44122485e+05, -0.00000000e+00,  0.00000000e+00,  0.00000000e+00,\n",
       "        0.00000000e+00,  0.00000000e+00, -0.00000000e+00, -0.00000000e+00,\n",
       "        1.35448703e+05,  3.17879970e+04,  0.00000000e+00, -0.00000000e+00,\n",
       "       -0.00000000e+00,  0.00000000e+00, -7.21285750e+04,  0.00000000e+00,\n",
       "       -0.00000000e+00, -0.00000000e+00, -0.00000000e+00,  0.00000000e+00,\n",
       "        3.01641809e+05, -5.32258065e+04, -0.00000000e+00,  1.23046659e+05,\n",
       "        6.42469370e+04,  0.00000000e+00,  2.62595979e+04, -0.00000000e+00,\n",
       "        0.00000000e+00,  0.00000000e+00,  0.00000000e+00, -0.00000000e+00,\n",
       "       -0.00000000e+00,  0.00000000e+00,  0.00000000e+00, -0.00000000e+00,\n",
       "        8.69757003e+04, -0.00000000e+00,  0.00000000e+00,  0.00000000e+00,\n",
       "        0.00000000e+00, -9.72761050e+04, -1.08519770e+03, -0.00000000e+00,\n",
       "        0.00000000e+00, -0.00000000e+00,  1.33477011e+04,  0.00000000e+00,\n",
       "        0.00000000e+00,  0.00000000e+00, -0.00000000e+00, -0.00000000e+00,\n",
       "        1.33939604e+05, -3.04914000e+04,  0.00000000e+00, -3.65774080e+03,\n",
       "       -1.07155093e+05,  0.00000000e+00,  0.00000000e+00,  0.00000000e+00,\n",
       "       -0.00000000e+00,  0.00000000e+00, -0.00000000e+00, -0.00000000e+00,\n",
       "       -0.00000000e+00, -0.00000000e+00,  0.00000000e+00, -4.57114894e+04,\n",
       "        0.00000000e+00,  0.00000000e+00,  0.00000000e+00,  0.00000000e+00,\n",
       "        8.49470419e+04,  6.25261700e+03,  0.00000000e+00, -3.29375608e+04,\n",
       "        4.91545247e+03,  0.00000000e+00, -0.00000000e+00,  0.00000000e+00,\n",
       "        0.00000000e+00, -0.00000000e+00, -0.00000000e+00,  0.00000000e+00,\n",
       "        0.00000000e+00, -0.00000000e+00, -5.94909592e+04, -0.00000000e+00,\n",
       "       -0.00000000e+00,  0.00000000e+00, -0.00000000e+00,  2.38171263e+05,\n",
       "       -0.00000000e+00, -1.37897682e+03, -0.00000000e+00, -3.67716275e+04,\n",
       "       -0.00000000e+00,  0.00000000e+00,  0.00000000e+00,  0.00000000e+00,\n",
       "       -0.00000000e+00,  0.00000000e+00, -0.00000000e+00, -0.00000000e+00,\n",
       "        0.00000000e+00,  0.00000000e+00,  3.22973032e+02, -0.00000000e+00,\n",
       "       -0.00000000e+00,  0.00000000e+00, -6.22358426e+04,  0.00000000e+00,\n",
       "        0.00000000e+00,  4.92822715e+04,  0.00000000e+00,  0.00000000e+00,\n",
       "       -0.00000000e+00,  0.00000000e+00, -0.00000000e+00, -0.00000000e+00,\n",
       "        0.00000000e+00,  0.00000000e+00,  0.00000000e+00,  1.21251378e+06,\n",
       "        0.00000000e+00,  0.00000000e+00, -0.00000000e+00, -0.00000000e+00,\n",
       "       -5.20356414e+03,  0.00000000e+00, -2.18988773e+03, -0.00000000e+00,\n",
       "        0.00000000e+00,  0.00000000e+00,  0.00000000e+00, -0.00000000e+00,\n",
       "       -0.00000000e+00, -8.12367319e+04, -0.00000000e+00, -3.89809808e+04,\n",
       "        0.00000000e+00,  0.00000000e+00, -0.00000000e+00,  0.00000000e+00,\n",
       "        0.00000000e+00,  0.00000000e+00, -0.00000000e+00,  0.00000000e+00,\n",
       "        0.00000000e+00,  0.00000000e+00,  0.00000000e+00, -0.00000000e+00,\n",
       "        3.89062035e+04, -0.00000000e+00,  0.00000000e+00,  0.00000000e+00,\n",
       "       -0.00000000e+00,  0.00000000e+00,  0.00000000e+00, -0.00000000e+00,\n",
       "       -0.00000000e+00,  0.00000000e+00, -0.00000000e+00, -0.00000000e+00,\n",
       "        2.96403360e+04,  0.00000000e+00, -7.49820915e+04, -0.00000000e+00,\n",
       "       -0.00000000e+00, -0.00000000e+00, -0.00000000e+00, -1.56674127e+03,\n",
       "       -0.00000000e+00,  0.00000000e+00, -4.60425149e+04,  0.00000000e+00,\n",
       "        0.00000000e+00,  0.00000000e+00,  0.00000000e+00,  0.00000000e+00,\n",
       "        0.00000000e+00,  0.00000000e+00,  0.00000000e+00,  0.00000000e+00,\n",
       "        0.00000000e+00,  0.00000000e+00,  0.00000000e+00,  0.00000000e+00,\n",
       "       -1.50854833e+04,  4.00160381e+05,  4.10797549e+05, -1.75921864e+05,\n",
       "        1.34706103e+05,  0.00000000e+00, -0.00000000e+00,  2.27781984e+05,\n",
       "        2.19914840e+05, -1.59356567e+04,  1.70206861e+04, -2.24070911e+05,\n",
       "        1.85766023e+05, -1.12121140e+04,  2.70421644e+05,  9.94804668e+04,\n",
       "        0.00000000e+00,  2.18500461e+04,  1.54923054e+05, -1.93797808e+05,\n",
       "        0.00000000e+00,  7.74196396e+04,  1.78548932e+05,  0.00000000e+00,\n",
       "        0.00000000e+00, -3.78245256e+04,  1.39443135e+05,  5.43319927e+05,\n",
       "        4.70769036e+04, -1.32449687e+05, -2.26168723e+05,  1.61988081e+05,\n",
       "       -0.00000000e+00,  3.37689378e+04, -1.62984512e+05,  5.56912336e+03,\n",
       "        0.00000000e+00,  0.00000000e+00, -2.42662219e+05,  0.00000000e+00])"
      ]
     },
     "execution_count": 78,
     "metadata": {},
     "output_type": "execute_result"
    }
   ],
   "source": [
    "la.coef_"
   ]
  },
  {
   "cell_type": "code",
   "execution_count": 79,
   "metadata": {},
   "outputs": [
    {
     "data": {
      "text/plain": [
       "array([ 2.74565399e+05, -3.08679934e+04, -8.54802356e+04,  1.30784473e+05,\n",
       "        3.79897031e+04,  3.01027203e+00,  3.48784768e+01,  1.43900376e+00,\n",
       "        1.28807037e+05, -6.43936116e+04, -2.20191147e+04,  1.41225935e+05,\n",
       "        6.01541283e+04,  1.36604921e+05,  6.82450737e+04, -4.48758586e+04,\n",
       "       -1.18261081e+05, -1.40375061e+04,  9.47702189e+04, -5.29144382e+04,\n",
       "       -4.41704919e+04, -4.98005912e+04,  2.40852122e+04, -3.83936672e+04,\n",
       "       -1.58353300e+04, -1.68201754e+05,  8.08493825e+03, -6.27880702e+04,\n",
       "        1.48801899e+05,  3.01077775e+04,  2.59806529e+04, -1.38083800e+04,\n",
       "        1.17008911e+04,  9.42462899e+02,  7.84154905e+04, -6.16676997e+04,\n",
       "        3.86961098e+04, -5.72485218e+04,  4.67434700e+04,  6.78005371e+04,\n",
       "        7.05287853e+04, -3.93760752e+04, -2.74948996e+04,  2.49850015e+04,\n",
       "        2.99162838e+04,  0.00000000e+00,  1.14984883e+05, -7.42920919e+04,\n",
       "       -1.36014255e+04,  3.69878814e+05, -4.72146099e+04, -8.03342124e+03,\n",
       "        2.80914008e+03,  5.43349020e+04,  5.11640785e+04,  4.72233711e+04,\n",
       "        2.35059755e+03,  0.00000000e+00, -9.56251249e+04,  2.17239495e+04,\n",
       "       -1.35130546e+05, -8.56658208e+03, -7.43665446e+03, -2.83615163e+04,\n",
       "       -6.38960115e+04, -2.27066505e+04, -3.51774145e+04,  7.37476422e+04,\n",
       "       -2.90809450e+04,  3.12281500e+05,  7.53877341e+04,  1.65799429e+05,\n",
       "       -1.37375804e+04, -3.73682482e+04,  6.16954569e+04, -5.10267319e+04,\n",
       "       -4.52266987e+04,  1.66328317e+04,  3.09632639e+04,  1.79383866e+04,\n",
       "       -7.01788037e+04,  8.26343725e+04, -1.70449796e+04, -1.85080067e+05,\n",
       "       -4.40945452e+03, -6.54370707e+04,  4.31031745e+04, -4.02939213e+04,\n",
       "        3.70240161e+04,  1.05259368e+04, -9.18490683e+04, -1.42371110e+05,\n",
       "       -2.02081426e+03, -5.30577174e+03, -5.09169976e+03, -7.25878211e+04,\n",
       "       -9.81308106e+03, -3.77644753e+02, -7.75464420e+03, -3.30196023e+03,\n",
       "       -2.13738826e+04,  1.76661046e+04, -1.84033294e+04, -7.15582269e+03,\n",
       "        5.99492023e+03, -8.33191854e+04,  2.43491815e+03, -4.22180728e+04,\n",
       "        0.00000000e+00,  3.66545218e+03, -3.02086959e+04, -1.57787606e+04,\n",
       "       -2.99055724e+04, -1.13494273e+04,  6.17629883e+03, -5.76660782e+04,\n",
       "       -3.35567636e+04,  2.97903613e+04,  5.41813762e+04,  5.00313003e+04,\n",
       "       -7.28105694e+04, -1.60588433e+04,  1.50875067e+05,  1.61235125e+05,\n",
       "        5.20984941e+04,  4.27299375e+04, -3.04024291e+04, -6.46590032e+04,\n",
       "        6.81526519e+03,  8.87377829e+03, -4.47233184e+04, -2.59979393e+04,\n",
       "        1.11753569e+05,  1.88864644e+04, -5.37601306e+03,  0.00000000e+00,\n",
       "        0.00000000e+00,  8.66871397e+04, -1.19748627e+04,  4.83970651e+04,\n",
       "        0.00000000e+00,  9.09809649e+04,  1.92108497e+05, -5.92492358e+04,\n",
       "       -3.32073589e+03, -3.60587872e+04,  6.04036402e+04, -5.18585474e+03,\n",
       "        1.06374327e+05, -1.64100115e+04,  6.71328489e+04,  7.17291282e+03,\n",
       "       -3.32512073e+04, -2.07431253e+04, -4.65608780e+04,  1.99627000e+05,\n",
       "       -1.09372515e+05, -8.32768653e+04, -1.46402558e+04,  1.01397343e+03,\n",
       "       -1.04371873e+05,  3.85408578e+03,  1.42946316e+05, -1.26318300e+05,\n",
       "       -3.92487475e+03, -1.47649106e+05, -6.36110040e+04,  1.41619854e+04,\n",
       "       -6.96748177e+03,  4.56013859e+03, -3.06761227e+04, -1.83561816e+05,\n",
       "       -2.39065485e+05, -7.90647992e+04, -4.44491536e+04, -2.93579130e+04,\n",
       "       -1.60106289e+04, -2.74277137e+04, -7.00575427e+03,  4.22357353e+04,\n",
       "        1.91829678e+05, -4.71500916e+04,  3.69973695e+03, -5.97172900e+04,\n",
       "        9.54665468e+03, -2.17752008e+04,  4.51304968e+04,  9.66009173e+03,\n",
       "       -2.09040283e+04, -6.59758917e+04, -7.39728594e+03, -7.49625016e+04,\n",
       "       -8.79493667e+03,  1.46966755e+03, -1.00842807e+04, -2.37745135e+04,\n",
       "        3.76967919e+04, -1.18895328e+04,  5.86559433e+03, -1.03331239e+04,\n",
       "       -4.30297224e+04,  2.62679395e+04, -9.59596573e+03, -3.76637540e+03,\n",
       "       -5.60296310e+02,  5.50674402e+02,  1.49364873e+03,  5.51429693e+03,\n",
       "       -5.12170055e+04,  2.80179299e+05, -3.69057050e+04, -1.00807895e+04,\n",
       "        4.33597573e+04, -2.00308787e+04,  5.28471062e+04, -2.52543815e+04,\n",
       "        4.94371875e+03, -1.70892724e+04,  7.61422417e+04,  4.54256166e+03,\n",
       "        3.51189260e+03,  2.58662949e+05, -6.15269619e+04,  3.17405397e+04,\n",
       "       -6.70743022e+02,  9.22845877e+04, -3.20644061e+04, -4.88805066e+03,\n",
       "        8.40798351e+04, -1.01897789e+05, -3.16724458e+04,  8.51771568e+04,\n",
       "       -6.40596686e+02,  1.38504132e+05, -6.42945251e+03, -2.70554387e+04,\n",
       "        6.35578740e+03, -2.29160279e+04, -3.00575391e+04,  2.24742668e+04,\n",
       "       -1.65924801e+04, -1.70145995e+04,  1.38911892e+04,  1.66475636e+05,\n",
       "       -6.16959473e+02,  1.04148391e+04,  1.47427781e+04, -4.11110851e+04,\n",
       "       -2.75097359e+04, -1.35732538e+05,  3.48906320e+03,  4.41427693e+04,\n",
       "        2.26859651e+04,  1.27084921e+05,  1.31503017e+05, -5.15984498e+04,\n",
       "        7.65481537e+03,  1.69920512e+04,  1.27739798e+04, -1.01651885e+05,\n",
       "       -7.11912803e+04, -1.88395229e+05, -7.02307828e+04,  8.33733378e+04,\n",
       "        2.87181168e+01, -1.05002699e+05,  1.07039324e+03,  2.09602876e+04,\n",
       "        2.25863186e+04,  2.64462427e+04, -3.83446838e+04, -2.57595191e+04,\n",
       "        1.28519381e+04, -9.71310808e+04, -4.48976338e+04, -7.68620226e+04,\n",
       "       -9.20811392e+03,  7.29923037e+04,  8.97120923e+03, -1.77425664e+04,\n",
       "        2.24169063e+04,  1.28078840e+03,  4.46994884e+04,  3.89097314e+03,\n",
       "       -5.17187012e+03, -2.41141726e+04, -4.94206115e+04, -4.49885715e+04,\n",
       "       -7.17203922e+04, -1.87013326e+05, -2.28895194e+04, -1.40836697e+03,\n",
       "       -1.17001044e+03,  3.70838472e+04, -3.95711376e+04, -9.88160481e+04,\n",
       "        4.63361530e+04, -2.78925981e+04,  2.21150968e+05,  4.45393456e+04,\n",
       "       -3.12477299e+04, -9.60722240e+04, -6.03344344e+03,  9.23746274e+03,\n",
       "       -3.57276798e+04, -3.59423732e+04, -3.16362117e+04,  0.00000000e+00,\n",
       "        7.49561409e+04, -7.43767428e+04,  1.32931673e+03,  2.52163925e+04,\n",
       "        6.07791286e+04,  1.17931552e+05,  1.42891971e+04, -9.85259178e+03,\n",
       "        3.61985399e+04,  2.34418230e+03, -1.68830295e+03, -3.24823934e+03,\n",
       "       -1.72487919e+05,  1.56510026e+04,  5.46791860e+03, -5.30769458e+04,\n",
       "       -4.26488535e+04,  4.19671080e+04, -1.39222505e+04,  1.42547534e+03,\n",
       "       -9.63712767e+03, -4.51983100e+04, -5.04595101e+03, -8.87373612e+04,\n",
       "       -7.92634937e+03, -3.05356992e+04,  1.24824666e+04, -2.21816959e+04,\n",
       "       -6.10047655e+04,  9.97034697e+03,  3.43707335e+03, -5.58589140e+03,\n",
       "        2.25829677e+05, -3.65266553e+03, -7.76543201e+04,  1.82796088e+04,\n",
       "        3.65559572e+02,  9.19522753e+04, -7.14262682e+04,  2.20049136e+03,\n",
       "        4.44441804e+04, -9.14904452e+02,  2.69662297e+02, -2.65181083e+05,\n",
       "       -4.59089913e+05,  6.17041506e+04,  1.44730121e+04,  2.23417120e+04,\n",
       "        1.63742161e+04, -4.12755804e+03,  3.60354133e+02,  1.91211876e+05,\n",
       "       -1.38803860e+03,  0.00000000e+00,  8.68076860e+03,  3.04090305e+03,\n",
       "       -3.68063517e+03, -8.57575725e+03, -5.62527017e+03, -1.70375453e+04,\n",
       "        1.28960348e+04,  1.12307767e+04, -8.05477554e+03, -5.48938288e+03,\n",
       "       -1.72032475e+03, -6.96121432e+03, -9.00682022e+02, -3.36819842e+03,\n",
       "        9.24228085e+03,  4.29428611e+04, -3.91971143e+04,  3.88247872e+03,\n",
       "       -7.21591437e+03, -1.01449795e+04, -5.19518456e+04, -3.03192131e+04,\n",
       "        3.51411397e+03, -2.81910666e+03, -2.40155639e+03,  0.00000000e+00,\n",
       "       -1.00216303e+04,  0.00000000e+00,  1.95967225e+03,  1.42956865e+04,\n",
       "        0.00000000e+00, -1.24630955e+04, -6.39417858e+03, -1.78014801e+04,\n",
       "       -1.55441316e+04, -7.87723204e+03,  3.13166237e+03, -5.67319785e+04,\n",
       "       -1.76582964e+02,  1.35713833e+04,  0.00000000e+00, -2.38846901e+03,\n",
       "       -6.70934203e+03, -4.53507071e+03,  3.67711727e+03,  0.00000000e+00,\n",
       "       -7.99832145e+03, -3.21567187e+04, -6.38439696e+03,  1.46632147e+05,\n",
       "       -4.21222044e+03,  0.00000000e+00,  1.56625032e+04,  1.09213406e+05,\n",
       "        2.75724716e+04, -7.59769544e+03,  2.51568640e+04, -1.38153029e+04,\n",
       "        2.03061552e+04, -1.15874504e+04,  3.34706342e+04, -1.35340844e+04,\n",
       "        2.70988339e+03, -1.56261751e+03,  1.11128224e+05,  0.00000000e+00,\n",
       "        1.72553679e+04,  5.34429953e+03,  2.91270712e+03, -4.27394067e+04,\n",
       "       -7.40485424e+03,  7.43950981e+02, -2.37626990e+03, -1.17165060e+03,\n",
       "       -6.32456323e+03, -5.29059136e+03,  4.87077220e+04,  9.37322592e+03,\n",
       "       -2.11583682e+03, -8.39092138e+03, -6.45384668e+04,  0.00000000e+00,\n",
       "       -1.74948794e+04, -2.60814493e+04, -6.13672830e+03, -3.29839149e+04,\n",
       "       -6.95782337e+03,  1.05834559e+04, -1.08338543e+03, -3.30018953e+03,\n",
       "       -1.46007408e+04, -1.98043419e+03, -1.16877340e+04, -1.65817858e+04,\n",
       "       -1.32435420e+04, -3.46380003e+03,  0.00000000e+00,  0.00000000e+00,\n",
       "       -1.29101715e+04,  0.00000000e+00, -1.00259873e+03, -5.68566440e+03,\n",
       "       -5.35011109e+02, -9.40677913e+03, -1.56127485e+04, -6.80195633e+04,\n",
       "       -1.04739802e+04, -6.17512984e+03, -2.80222210e+03,  1.23044439e+04,\n",
       "       -7.48469083e+03,  8.35558347e+03, -4.02178741e+04,  1.47168835e+05,\n",
       "       -2.12719115e+04, -1.85260215e+04, -2.47418375e+04, -5.68923319e+04,\n",
       "       -5.57660743e+04, -4.43943840e+03, -2.49827505e+04,  3.99042099e+03,\n",
       "        7.03173808e+03, -5.49078904e+03,  2.56012062e+04,  8.44314525e+03,\n",
       "       -3.83781733e+03,  0.00000000e+00, -6.65397878e+03, -1.63014369e+04,\n",
       "       -5.89258163e+03,  6.03281806e+02,  1.27970371e+02,  0.00000000e+00,\n",
       "        2.65131472e+04,  3.15884892e+03,  6.78443227e+04,  2.40881330e+03,\n",
       "        4.06748658e+01, -1.26052236e+04, -1.01984832e+04,  6.51794203e+03,\n",
       "       -3.89263225e+03, -1.19371185e+02, -8.64925972e+03,  3.28714406e+05,\n",
       "       -6.11319286e+03,  1.97821584e+04,  5.07829842e+04, -3.79973893e+03,\n",
       "        1.29136621e+04, -9.66203710e+04, -3.32338024e+04, -1.09906310e+04,\n",
       "        6.61024644e+04, -1.41839665e+04,  4.40593565e+03,  1.59660325e+01,\n",
       "        7.94654811e+03,  1.08178239e+03,  6.06514273e+03, -6.02689429e+03,\n",
       "        6.01311462e+04,  7.83028047e+03,  0.00000000e+00, -1.16655622e+04,\n",
       "       -3.21900151e+03,  5.32562827e+03, -7.33134234e+04, -1.84192867e+03,\n",
       "       -1.11006126e+04, -2.57353103e+04, -3.55924898e+03,  6.75812013e+03,\n",
       "        2.77727498e+05, -3.49355747e+04, -2.32659720e+03,  3.99995744e+04,\n",
       "        3.98952775e+04,  0.00000000e+00,  1.13116062e+04, -4.00453831e+03,\n",
       "        0.00000000e+00, -8.19720819e+03,  0.00000000e+00, -1.96933112e+03,\n",
       "       -3.22222593e+03,  2.71227925e+03,  1.16089711e+04, -3.29509909e+03,\n",
       "        4.43101566e+04, -1.52672038e+04,  1.27611813e+04,  1.02871191e+04,\n",
       "       -3.02848071e+04, -3.97746529e+04, -3.80650627e+04, -5.70501075e+03,\n",
       "        6.42792462e+02, -6.72767431e+03, -3.38540033e+02, -1.25394746e+03,\n",
       "        1.13171421e+04,  1.57248865e+04, -5.49418192e+03, -4.55899879e+03,\n",
       "        9.37358887e+04, -4.60595024e+04,  0.00000000e+00, -3.03682182e+04,\n",
       "       -3.33599640e+04, -2.19159003e+03,  2.98097088e+03,  7.21947282e+03,\n",
       "       -4.60027340e+03,  5.98419514e+01, -4.77169425e+03, -6.01248331e+03,\n",
       "       -4.96362255e+03, -3.55330997e+03,  0.00000000e+00, -4.21844065e+04,\n",
       "        3.10107465e+03, -7.25063744e+03, -1.18934799e+02,  1.28212666e+04,\n",
       "        3.82146869e+04,  2.64901552e+04,  1.72808581e+04, -3.92489501e+04,\n",
       "        1.79013666e+02, -1.46881978e+04, -1.32213749e+04,  0.00000000e+00,\n",
       "        0.00000000e+00, -3.11925463e+04, -3.65946059e+03,  1.39878383e+04,\n",
       "        0.00000000e+00, -7.84372179e+03, -6.84215704e+04, -2.82213942e+03,\n",
       "       -3.74158928e+03,  4.66919535e+02, -1.44183941e+04,  1.85818677e+05,\n",
       "       -3.61256635e+04, -1.68764025e+04, -1.39701213e+04, -7.07717605e+04,\n",
       "       -1.01402697e+04,  0.00000000e+00,  1.97179089e+04,  6.39857873e+03,\n",
       "       -3.24698772e+03, -8.31878571e+02, -2.66643574e+04, -1.28016090e+04,\n",
       "        0.00000000e+00, -1.19874246e+03,  1.14318311e+04, -6.60514263e+02,\n",
       "       -5.83679380e+03,  2.86370838e+03, -3.18514190e+04,  3.72070562e+03,\n",
       "        1.78705718e+03,  2.00238155e+04,  0.00000000e+00,  0.00000000e+00,\n",
       "       -8.54533362e+03,  8.16786413e+02, -2.45495508e+04, -1.80848024e+04,\n",
       "        0.00000000e+00,  8.89985818e+02,  0.00000000e+00,  1.32107104e+05,\n",
       "       -1.88702478e+02,  0.00000000e+00, -2.08124061e+03, -3.70521872e+03,\n",
       "       -4.84061203e+04,  0.00000000e+00, -2.71698528e+04, -6.18808890e+03,\n",
       "        0.00000000e+00,  1.21911171e+04,  0.00000000e+00, -8.01157814e+03,\n",
       "       -6.43332748e+03, -6.50046718e+04, -1.05938664e+04, -4.36692018e+04,\n",
       "        4.36422365e+03, -2.61455656e+03, -1.10922384e+04,  0.00000000e+00,\n",
       "        4.74885967e+03,  6.98143465e+03, -1.27307633e+04,  0.00000000e+00,\n",
       "        0.00000000e+00,  0.00000000e+00,  0.00000000e+00, -8.31230977e+03,\n",
       "        2.02009460e+04, -1.56708168e+04,  2.19316030e+03,  4.85829463e+03,\n",
       "       -1.81962784e+04,  0.00000000e+00,  1.29761293e+03, -6.76963493e+03,\n",
       "       -1.97310122e+04,  7.43352010e+03, -3.20960320e+04, -3.53280161e+04,\n",
       "        1.55440061e+04,  4.81163530e+03, -5.49761799e+04, -4.87193544e+03,\n",
       "       -1.47168784e+04, -6.95125890e+03, -7.23532791e+03, -4.23503193e+04,\n",
       "       -2.16371697e+03,  1.59874647e+04, -6.86213333e+04,  1.96976959e+03,\n",
       "        3.03634025e+03,  0.00000000e+00,  6.60064147e+02,  0.00000000e+00,\n",
       "        1.04495159e+04,  7.52790984e+02,  3.66537634e+03,  1.79168409e+03,\n",
       "        0.00000000e+00,  0.00000000e+00,  6.27143390e+02, -1.75185379e+02,\n",
       "       -2.70377513e+04,  2.94355686e+05,  2.70504148e+05, -1.57127714e+05,\n",
       "        4.76921606e+04, -1.79244124e+04,  1.73186518e+04,  1.44870242e+05,\n",
       "        5.40416797e+04, -6.77489488e+04,  2.41661711e+04, -1.86409218e+05,\n",
       "        7.95496213e+04, -3.64247894e+04,  9.40739709e+04,  5.33601339e+04,\n",
       "       -4.26058613e+04,  2.28304023e+04,  9.35333898e+04, -1.38259385e+05,\n",
       "        1.56510026e+04,  1.72485594e+04,  1.07848108e+05,  8.08493825e+03,\n",
       "       -4.10303802e+04, -6.52997434e+04,  9.22655795e+04,  2.73445731e+05,\n",
       "        8.83695561e+04, -1.17534285e+05, -1.77034804e+05,  1.18949628e+05,\n",
       "       -2.00029295e+04,  9.00438054e+04, -1.46415277e+05,  2.94157502e+04,\n",
       "        9.45577712e+04,  1.30397156e+05, -2.23853299e+05, -9.41658442e+03])"
      ]
     },
     "execution_count": 79,
     "metadata": {},
     "output_type": "execute_result"
    }
   ],
   "source": [
    "r.coef_"
   ]
  },
  {
   "cell_type": "code",
   "execution_count": 86,
   "metadata": {},
   "outputs": [
    {
     "data": {
      "image/png": "[encoded data removed]",
      "text/plain": [
       "<Figure size 432x288 with 1 Axes>"
      ]
     },
     "metadata": {
      "needs_background": "light"
     },
     "output_type": "display_data"
    }
   ],
   "source": [
    "plt.plot(l.coef_[:10],label=\"Linear Regression\")\n",
    "plt.plot(la.coef_[:10],c='r',label=\"Lasso Regression\")\n",
    "plt.plot(r.coef_[:10],c='g',label=\"Ridge Regression\")\n",
    "plt.xlabel(\"coefficient index\")\n",
    "plt.ylabel(\"coefficient magnitude\")\n",
    "plt.title(\"Linear Regression Vs Ridge Regression Vs Lasso Regression \")\n",
    "plt.legend()\n",
    "plt.show()"
   ]
  },
  {
   "cell_type": "code",
   "execution_count": null,
   "metadata": {},
   "outputs": [],
   "source": []
  }
 ],
 "metadata": {
  "kernelspec": {
   "display_name": "Python 3",
   "language": "python",
   "name": "python3"
  },
  "language_info": {
   "codemirror_mode": {
    "name": "ipython",
    "version": 3
   },
   "file_extension": ".py",
   "mimetype": "text/x-python",
   "name": "python",
   "nbconvert_exporter": "python",
   "pygments_lexer": "ipython3",
   "version": "3.8.5"
  }
 },
 "nbformat": 4,
 "nbformat_minor": 4
}
