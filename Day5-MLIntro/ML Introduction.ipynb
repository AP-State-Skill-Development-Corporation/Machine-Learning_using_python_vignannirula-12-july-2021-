{
 "cells": [
  {
   "cell_type": "markdown",
   "metadata": {},
   "source": [
    "## Day Agenda\n",
    "-  What is Machine Learning \n",
    "- Types Machine Learning\n",
    "- Models in Machine Learning\n",
    "- Data types or variables in Machine Learning\n",
    "- Machine Learning Life Cycle\n",
    "- Applications of Machine Learning"
   ]
  },
  {
   "cell_type": "markdown",
   "metadata": {},
   "source": [
    "## Types Machine Learning\n",
    "- 3 types\n",
    "- supervised Machine Learning\n",
    "    - Labeled data\n",
    "    - input and output's clearly\n",
    "    - Delas with classification & Regression problems\n",
    "- Unsupervised Machine Learning\n",
    "    - Don't have any lables\n",
    "    - machine find out the hidden patterns /structures inside the data\n",
    "    - Dimensionality reduction\n",
    "- Reinforcement Machine Learning\n",
    "    - Leads to Ai\n",
    "    - Machine  depends on rewards from user\n",
    "    "
   ]
  },
  {
   "cell_type": "markdown",
   "metadata": {},
   "source": [
    "## ML Life cycle steps\n",
    "1. Define the business use case-(finding covid +ve  or not).\n",
    "2. Explore the data - (Take the previous covid data)\n",
    "3. select ML algorithem -(supervised ml Classification algorithem)\n",
    "4. Data Pipelining or Feature Engineering- (Preprocessing/wragling-isna)\n",
    "5. Build the ML Model- train or fit the data to model\n",
    "6. Evalute the model -test the model\n",
    "7. present the results - understood the results\n",
    "8. plan for deployment -  plan for deploy the model\n",
    "9. Generate the optimized model- \n",
    "10. monitor the  model -"
   ]
  },
  {
   "cell_type": "markdown",
   "metadata": {},
   "source": [
    "## Data\n",
    "- Information\n",
    "- Generated  from human's\n",
    "- Structure -excel,csv,tsv,\n",
    "- semi-structure-json,xml\n",
    "- un-structure-txt,word,vedios,audios,images,signals"
   ]
  },
  {
   "cell_type": "markdown",
   "metadata": {},
   "source": [
    "## Types of variables\n",
    "- Numerical \n",
    "    - continuous(ex:pass percentage)\n",
    "    - discrete(ex:pass or fail)\n",
    "- catagorical\n",
    "    - ordinal(ex:user rating)\n",
    "    - nominal(ex:blood type)"
   ]
  },
  {
   "cell_type": "code",
   "execution_count": null,
   "metadata": {},
   "outputs": [],
   "source": [
    "## Machine Learning Terminoligies\n",
    "- features - inputs or predictors\n",
    "- "
   ]
  }
 ],
 "metadata": {
  "kernelspec": {
   "display_name": "Python 3",
   "language": "python",
   "name": "python3"
  },
  "language_info": {
   "codemirror_mode": {
    "name": "ipython",
    "version": 3
   },
   "file_extension": ".py",
   "mimetype": "text/x-python",
   "name": "python",
   "nbconvert_exporter": "python",
   "pygments_lexer": "ipython3",
   "version": "3.8.5"
  }
 },
 "nbformat": 4,
 "nbformat_minor": 4
}
